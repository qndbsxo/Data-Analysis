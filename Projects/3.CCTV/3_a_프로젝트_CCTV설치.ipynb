{
  "nbformat": 4,
  "nbformat_minor": 0,
  "metadata": {
    "kernelspec": {
      "display_name": "Python 3",
      "language": "python",
      "name": "python3"
    },
    "language_info": {
      "codemirror_mode": {
        "name": "ipython",
        "version": 3
      },
      "file_extension": ".py",
      "mimetype": "text/x-python",
      "name": "python",
      "nbconvert_exporter": "python",
      "pygments_lexer": "ipython3",
      "version": "3.8.3"
    },
    "colab": {
      "name": "3.a 프로젝트 - CCTV설치.ipynb",
      "provenance": [],
      "collapsed_sections": [
        "oLonLTJ5N-JP",
        "Gz6lQIxtN-JQ",
        "SlwC9fLSN-JR",
        "9u9jJOOjN-JR",
        "MUUrLToHN-JS",
        "ZBf4Cg2dN-JS",
        "eNC6V99_N-JT",
        "9wsqnKhAN-JT",
        "0STcS3g5N-JU",
        "ano8FotjN-JU",
        "nITAeM0tN-JV",
        "XbogFR25N-JV",
        "Fn_qTrY-N-JV",
        "3me1tUvvN-JV",
        "DR_P-A6mN-JW",
        "IY7TNVpoN-JW",
        "Rk8adBEpN-JX",
        "nPhBTd_ZN-JX",
        "hcOVISadN-JY"
      ],
      "include_colab_link": true
    }
  },
  "cells": [
    {
      "cell_type": "markdown",
      "metadata": {
        "id": "view-in-github",
        "colab_type": "text"
      },
      "source": [
        "<a href=\"https://colab.research.google.com/github/qndbsxo/Data-Analysis/blob/main/Projects/3.CCTV/3_a_%ED%94%84%EB%A1%9C%EC%A0%9D%ED%8A%B8_CCTV%EC%84%A4%EC%B9%98.ipynb\" target=\"_parent\"><img src=\"https://colab.research.google.com/assets/colab-badge.svg\" alt=\"Open In Colab\"/></a>"
      ]
    },
    {
      "cell_type": "markdown",
      "metadata": {
        "id": "Hd_sMUA_N-JB"
      },
      "source": [
        "# PYTHON PROGRAMMING\n"
      ]
    },
    {
      "cell_type": "code",
      "metadata": {
        "id": "mt8d-bG0N-JH"
      },
      "source": [
        "# 라이브러리 불러오기\n",
        "import numpy as np\n",
        "import pandas as pd\n",
        "import matplotlib.pyplot as plt\n",
        "import seaborn as sb\n",
        "\n",
        "%matplotlib inline"
      ],
      "execution_count": 1,
      "outputs": []
    },
    {
      "cell_type": "code",
      "metadata": {
        "colab": {
          "base_uri": "https://localhost:8080/"
        },
        "id": "OW9781xVOG_L",
        "outputId": "23e11565-42b6-4797-a3cd-3ed07aaa6f55"
      },
      "source": [
        "# 한글사용코드 \n",
        "import matplotlib as mpl\n",
        "import matplotlib.pyplot as plt\n",
        " \n",
        "%config InlineBackend.figure_format = 'retina'\n",
        " \n",
        "!apt -qq -y install fonts-nanum\n",
        " \n",
        "import matplotlib.font_manager as fm\n",
        "fontpath = '/usr/share/fonts/truetype/nanum/NanumBarunGothic.ttf'\n",
        "font = fm.FontProperties(fname=fontpath, size=9)\n",
        "plt.rc('font', family='NanumBarunGothic') \n",
        "mpl.font_manager._rebuild()\n"
      ],
      "execution_count": 2,
      "outputs": [
        {
          "output_type": "stream",
          "text": [
            "fonts-nanum is already the newest version (20170925-1).\n",
            "The following package was automatically installed and is no longer required:\n",
            "  libnvidia-common-460\n",
            "Use 'apt autoremove' to remove it.\n",
            "0 upgraded, 0 newly installed, 0 to remove and 40 not upgraded.\n"
          ],
          "name": "stdout"
        }
      ]
    },
    {
      "cell_type": "markdown",
      "metadata": {
        "id": "QWGXC3GDN-JH"
      },
      "source": [
        "## 실습 1. CCTV_in_Seoul.csv 파일을 pandas 로 읽어오세요.\n"
      ]
    },
    {
      "cell_type": "code",
      "metadata": {
        "colab": {
          "base_uri": "https://localhost:8080/",
          "height": 821
        },
        "id": "tLQe3QhfN-JI",
        "outputId": "4926c647-be6f-4b9b-c148-c9dfdae9c3d4"
      },
      "source": [
        "df_cctv_seoul = pd.read_csv('/content/CCTV_in_Seoul.csv') # csv파일 불러오기\n",
        "df_cctv_seoul"
      ],
      "execution_count": 3,
      "outputs": [
        {
          "output_type": "execute_result",
          "data": {
            "text/html": [
              "<div>\n",
              "<style scoped>\n",
              "    .dataframe tbody tr th:only-of-type {\n",
              "        vertical-align: middle;\n",
              "    }\n",
              "\n",
              "    .dataframe tbody tr th {\n",
              "        vertical-align: top;\n",
              "    }\n",
              "\n",
              "    .dataframe thead th {\n",
              "        text-align: right;\n",
              "    }\n",
              "</style>\n",
              "<table border=\"1\" class=\"dataframe\">\n",
              "  <thead>\n",
              "    <tr style=\"text-align: right;\">\n",
              "      <th></th>\n",
              "      <th>기관명</th>\n",
              "      <th>소계</th>\n",
              "      <th>2013년도 이전</th>\n",
              "      <th>2014년</th>\n",
              "      <th>2015년</th>\n",
              "      <th>2016년</th>\n",
              "    </tr>\n",
              "  </thead>\n",
              "  <tbody>\n",
              "    <tr>\n",
              "      <th>0</th>\n",
              "      <td>강남구</td>\n",
              "      <td>2780</td>\n",
              "      <td>1292</td>\n",
              "      <td>430</td>\n",
              "      <td>584</td>\n",
              "      <td>932</td>\n",
              "    </tr>\n",
              "    <tr>\n",
              "      <th>1</th>\n",
              "      <td>강동구</td>\n",
              "      <td>773</td>\n",
              "      <td>379</td>\n",
              "      <td>99</td>\n",
              "      <td>155</td>\n",
              "      <td>377</td>\n",
              "    </tr>\n",
              "    <tr>\n",
              "      <th>2</th>\n",
              "      <td>강북구</td>\n",
              "      <td>748</td>\n",
              "      <td>369</td>\n",
              "      <td>120</td>\n",
              "      <td>138</td>\n",
              "      <td>204</td>\n",
              "    </tr>\n",
              "    <tr>\n",
              "      <th>3</th>\n",
              "      <td>강서구</td>\n",
              "      <td>884</td>\n",
              "      <td>388</td>\n",
              "      <td>258</td>\n",
              "      <td>184</td>\n",
              "      <td>81</td>\n",
              "    </tr>\n",
              "    <tr>\n",
              "      <th>4</th>\n",
              "      <td>관악구</td>\n",
              "      <td>1496</td>\n",
              "      <td>846</td>\n",
              "      <td>260</td>\n",
              "      <td>390</td>\n",
              "      <td>613</td>\n",
              "    </tr>\n",
              "    <tr>\n",
              "      <th>5</th>\n",
              "      <td>광진구</td>\n",
              "      <td>707</td>\n",
              "      <td>573</td>\n",
              "      <td>78</td>\n",
              "      <td>53</td>\n",
              "      <td>174</td>\n",
              "    </tr>\n",
              "    <tr>\n",
              "      <th>6</th>\n",
              "      <td>구로구</td>\n",
              "      <td>1561</td>\n",
              "      <td>1142</td>\n",
              "      <td>173</td>\n",
              "      <td>246</td>\n",
              "      <td>323</td>\n",
              "    </tr>\n",
              "    <tr>\n",
              "      <th>7</th>\n",
              "      <td>금천구</td>\n",
              "      <td>1015</td>\n",
              "      <td>674</td>\n",
              "      <td>51</td>\n",
              "      <td>269</td>\n",
              "      <td>354</td>\n",
              "    </tr>\n",
              "    <tr>\n",
              "      <th>8</th>\n",
              "      <td>노원구</td>\n",
              "      <td>1265</td>\n",
              "      <td>542</td>\n",
              "      <td>57</td>\n",
              "      <td>451</td>\n",
              "      <td>516</td>\n",
              "    </tr>\n",
              "    <tr>\n",
              "      <th>9</th>\n",
              "      <td>도봉구</td>\n",
              "      <td>485</td>\n",
              "      <td>238</td>\n",
              "      <td>159</td>\n",
              "      <td>42</td>\n",
              "      <td>386</td>\n",
              "    </tr>\n",
              "    <tr>\n",
              "      <th>10</th>\n",
              "      <td>동대문구</td>\n",
              "      <td>1294</td>\n",
              "      <td>1070</td>\n",
              "      <td>23</td>\n",
              "      <td>198</td>\n",
              "      <td>579</td>\n",
              "    </tr>\n",
              "    <tr>\n",
              "      <th>11</th>\n",
              "      <td>동작구</td>\n",
              "      <td>1091</td>\n",
              "      <td>544</td>\n",
              "      <td>341</td>\n",
              "      <td>103</td>\n",
              "      <td>314</td>\n",
              "    </tr>\n",
              "    <tr>\n",
              "      <th>12</th>\n",
              "      <td>마포구</td>\n",
              "      <td>574</td>\n",
              "      <td>314</td>\n",
              "      <td>118</td>\n",
              "      <td>169</td>\n",
              "      <td>379</td>\n",
              "    </tr>\n",
              "    <tr>\n",
              "      <th>13</th>\n",
              "      <td>서대문구</td>\n",
              "      <td>962</td>\n",
              "      <td>844</td>\n",
              "      <td>50</td>\n",
              "      <td>68</td>\n",
              "      <td>292</td>\n",
              "    </tr>\n",
              "    <tr>\n",
              "      <th>14</th>\n",
              "      <td>서초구</td>\n",
              "      <td>1930</td>\n",
              "      <td>1406</td>\n",
              "      <td>157</td>\n",
              "      <td>336</td>\n",
              "      <td>398</td>\n",
              "    </tr>\n",
              "    <tr>\n",
              "      <th>15</th>\n",
              "      <td>성동구</td>\n",
              "      <td>1062</td>\n",
              "      <td>730</td>\n",
              "      <td>91</td>\n",
              "      <td>241</td>\n",
              "      <td>265</td>\n",
              "    </tr>\n",
              "    <tr>\n",
              "      <th>16</th>\n",
              "      <td>성북구</td>\n",
              "      <td>1464</td>\n",
              "      <td>1009</td>\n",
              "      <td>78</td>\n",
              "      <td>360</td>\n",
              "      <td>204</td>\n",
              "    </tr>\n",
              "    <tr>\n",
              "      <th>17</th>\n",
              "      <td>송파구</td>\n",
              "      <td>618</td>\n",
              "      <td>529</td>\n",
              "      <td>21</td>\n",
              "      <td>68</td>\n",
              "      <td>463</td>\n",
              "    </tr>\n",
              "    <tr>\n",
              "      <th>18</th>\n",
              "      <td>양천구</td>\n",
              "      <td>2034</td>\n",
              "      <td>1843</td>\n",
              "      <td>142</td>\n",
              "      <td>30</td>\n",
              "      <td>467</td>\n",
              "    </tr>\n",
              "    <tr>\n",
              "      <th>19</th>\n",
              "      <td>영등포구</td>\n",
              "      <td>904</td>\n",
              "      <td>495</td>\n",
              "      <td>214</td>\n",
              "      <td>195</td>\n",
              "      <td>373</td>\n",
              "    </tr>\n",
              "    <tr>\n",
              "      <th>20</th>\n",
              "      <td>용산구</td>\n",
              "      <td>1624</td>\n",
              "      <td>1368</td>\n",
              "      <td>218</td>\n",
              "      <td>112</td>\n",
              "      <td>398</td>\n",
              "    </tr>\n",
              "    <tr>\n",
              "      <th>21</th>\n",
              "      <td>은평구</td>\n",
              "      <td>1873</td>\n",
              "      <td>1138</td>\n",
              "      <td>224</td>\n",
              "      <td>278</td>\n",
              "      <td>468</td>\n",
              "    </tr>\n",
              "    <tr>\n",
              "      <th>22</th>\n",
              "      <td>종로구</td>\n",
              "      <td>1002</td>\n",
              "      <td>464</td>\n",
              "      <td>314</td>\n",
              "      <td>211</td>\n",
              "      <td>630</td>\n",
              "    </tr>\n",
              "    <tr>\n",
              "      <th>23</th>\n",
              "      <td>중구</td>\n",
              "      <td>671</td>\n",
              "      <td>413</td>\n",
              "      <td>190</td>\n",
              "      <td>72</td>\n",
              "      <td>348</td>\n",
              "    </tr>\n",
              "    <tr>\n",
              "      <th>24</th>\n",
              "      <td>중랑구</td>\n",
              "      <td>660</td>\n",
              "      <td>509</td>\n",
              "      <td>121</td>\n",
              "      <td>177</td>\n",
              "      <td>109</td>\n",
              "    </tr>\n",
              "  </tbody>\n",
              "</table>\n",
              "</div>"
            ],
            "text/plain": [
              "     기관명    소계  2013년도 이전  2014년  2015년  2016년\n",
              "0    강남구  2780       1292    430    584    932\n",
              "1    강동구   773        379     99    155    377\n",
              "2    강북구   748        369    120    138    204\n",
              "3    강서구   884        388    258    184     81\n",
              "4    관악구  1496        846    260    390    613\n",
              "5    광진구   707        573     78     53    174\n",
              "6    구로구  1561       1142    173    246    323\n",
              "7    금천구  1015        674     51    269    354\n",
              "8    노원구  1265        542     57    451    516\n",
              "9    도봉구   485        238    159     42    386\n",
              "10  동대문구  1294       1070     23    198    579\n",
              "11   동작구  1091        544    341    103    314\n",
              "12   마포구   574        314    118    169    379\n",
              "13  서대문구   962        844     50     68    292\n",
              "14   서초구  1930       1406    157    336    398\n",
              "15   성동구  1062        730     91    241    265\n",
              "16   성북구  1464       1009     78    360    204\n",
              "17   송파구   618        529     21     68    463\n",
              "18   양천구  2034       1843    142     30    467\n",
              "19  영등포구   904        495    214    195    373\n",
              "20   용산구  1624       1368    218    112    398\n",
              "21   은평구  1873       1138    224    278    468\n",
              "22   종로구  1002        464    314    211    630\n",
              "23    중구   671        413    190     72    348\n",
              "24   중랑구   660        509    121    177    109"
            ]
          },
          "metadata": {},
          "execution_count": 3
        }
      ]
    },
    {
      "cell_type": "markdown",
      "metadata": {
        "id": "Qc6WMiyoN-JJ"
      },
      "source": [
        "## 실습 2. 컬럼 중 \"기관명\" 컬럼명을 \"구별\" 로 이름을 바꾸세요."
      ]
    },
    {
      "cell_type": "code",
      "metadata": {
        "id": "DRqdJBYmN-JK"
      },
      "source": [
        "df_cctv_seoul = df_cctv_seoul.rename(columns={\"기관명\":\"구별\"}) # 컬럼명 변경"
      ],
      "execution_count": 4,
      "outputs": []
    },
    {
      "cell_type": "code",
      "metadata": {
        "id": "V47lbQX9N-JK"
      },
      "source": [
        ""
      ],
      "execution_count": 4,
      "outputs": []
    },
    {
      "cell_type": "markdown",
      "metadata": {
        "id": "lnnC6KkcN-JL"
      },
      "source": [
        "## 실습 3. population_in_Seoul.xls 파일을 읽으세요. \n"
      ]
    },
    {
      "cell_type": "code",
      "metadata": {
        "colab": {
          "base_uri": "https://localhost:8080/",
          "height": 204
        },
        "id": "Dr_7FIGaN-JL",
        "outputId": "6dfcf47e-a785-4eff-ad5e-0f5b3773fb5c"
      },
      "source": [
        "df_pop_seoul = pd.read_excel('/content/population_in_Seoul.xls',)\n",
        "df_pop_seoul.head()"
      ],
      "execution_count": 5,
      "outputs": [
        {
          "output_type": "execute_result",
          "data": {
            "text/html": [
              "<div>\n",
              "<style scoped>\n",
              "    .dataframe tbody tr th:only-of-type {\n",
              "        vertical-align: middle;\n",
              "    }\n",
              "\n",
              "    .dataframe tbody tr th {\n",
              "        vertical-align: top;\n",
              "    }\n",
              "\n",
              "    .dataframe thead th {\n",
              "        text-align: right;\n",
              "    }\n",
              "</style>\n",
              "<table border=\"1\" class=\"dataframe\">\n",
              "  <thead>\n",
              "    <tr style=\"text-align: right;\">\n",
              "      <th></th>\n",
              "      <th>기간</th>\n",
              "      <th>자치구</th>\n",
              "      <th>세대</th>\n",
              "      <th>인구</th>\n",
              "      <th>인구.1</th>\n",
              "      <th>인구.2</th>\n",
              "      <th>인구.3</th>\n",
              "      <th>인구.4</th>\n",
              "      <th>인구.5</th>\n",
              "      <th>인구.6</th>\n",
              "      <th>인구.7</th>\n",
              "      <th>인구.8</th>\n",
              "      <th>세대당인구</th>\n",
              "      <th>65세이상고령자</th>\n",
              "    </tr>\n",
              "  </thead>\n",
              "  <tbody>\n",
              "    <tr>\n",
              "      <th>0</th>\n",
              "      <td>기간</td>\n",
              "      <td>자치구</td>\n",
              "      <td>세대</td>\n",
              "      <td>합계</td>\n",
              "      <td>합계</td>\n",
              "      <td>합계</td>\n",
              "      <td>한국인</td>\n",
              "      <td>한국인</td>\n",
              "      <td>한국인</td>\n",
              "      <td>등록외국인</td>\n",
              "      <td>등록외국인</td>\n",
              "      <td>등록외국인</td>\n",
              "      <td>세대당인구</td>\n",
              "      <td>65세이상고령자</td>\n",
              "    </tr>\n",
              "    <tr>\n",
              "      <th>1</th>\n",
              "      <td>기간</td>\n",
              "      <td>자치구</td>\n",
              "      <td>세대</td>\n",
              "      <td>계</td>\n",
              "      <td>남자</td>\n",
              "      <td>여자</td>\n",
              "      <td>계</td>\n",
              "      <td>남자</td>\n",
              "      <td>여자</td>\n",
              "      <td>계</td>\n",
              "      <td>남자</td>\n",
              "      <td>여자</td>\n",
              "      <td>세대당인구</td>\n",
              "      <td>65세이상고령자</td>\n",
              "    </tr>\n",
              "    <tr>\n",
              "      <th>2</th>\n",
              "      <td>2017.1/4</td>\n",
              "      <td>합계</td>\n",
              "      <td>4202888</td>\n",
              "      <td>10197604</td>\n",
              "      <td>5000005</td>\n",
              "      <td>5197599</td>\n",
              "      <td>9926968</td>\n",
              "      <td>4871560</td>\n",
              "      <td>5055408</td>\n",
              "      <td>270636</td>\n",
              "      <td>128445</td>\n",
              "      <td>142191</td>\n",
              "      <td>2.36</td>\n",
              "      <td>1321458</td>\n",
              "    </tr>\n",
              "    <tr>\n",
              "      <th>3</th>\n",
              "      <td>2017.1/4</td>\n",
              "      <td>종로구</td>\n",
              "      <td>72654</td>\n",
              "      <td>162820</td>\n",
              "      <td>79675</td>\n",
              "      <td>83145</td>\n",
              "      <td>153589</td>\n",
              "      <td>75611</td>\n",
              "      <td>77978</td>\n",
              "      <td>9231</td>\n",
              "      <td>4064</td>\n",
              "      <td>5167</td>\n",
              "      <td>2.11</td>\n",
              "      <td>25425</td>\n",
              "    </tr>\n",
              "    <tr>\n",
              "      <th>4</th>\n",
              "      <td>2017.1/4</td>\n",
              "      <td>중구</td>\n",
              "      <td>59481</td>\n",
              "      <td>133240</td>\n",
              "      <td>65790</td>\n",
              "      <td>67450</td>\n",
              "      <td>124312</td>\n",
              "      <td>61656</td>\n",
              "      <td>62656</td>\n",
              "      <td>8928</td>\n",
              "      <td>4134</td>\n",
              "      <td>4794</td>\n",
              "      <td>2.09</td>\n",
              "      <td>20764</td>\n",
              "    </tr>\n",
              "  </tbody>\n",
              "</table>\n",
              "</div>"
            ],
            "text/plain": [
              "         기간  자치구       세대        인구  ...    인구.7    인구.8  세대당인구  65세이상고령자\n",
              "0        기간  자치구       세대        합계  ...   등록외국인   등록외국인  세대당인구  65세이상고령자\n",
              "1        기간  자치구       세대         계  ...      남자      여자  세대당인구  65세이상고령자\n",
              "2  2017.1/4   합계  4202888  10197604  ...  128445  142191   2.36   1321458\n",
              "3  2017.1/4  종로구    72654    162820  ...    4064    5167   2.11     25425\n",
              "4  2017.1/4   중구    59481    133240  ...    4134    4794   2.09     20764\n",
              "\n",
              "[5 rows x 14 columns]"
            ]
          },
          "metadata": {},
          "execution_count": 5
        }
      ]
    },
    {
      "cell_type": "code",
      "metadata": {
        "id": "91L-BWQQN-JM"
      },
      "source": [
        ""
      ],
      "execution_count": 5,
      "outputs": []
    },
    {
      "cell_type": "markdown",
      "metadata": {
        "id": "Nr4f7Tf5N-JM"
      },
      "source": [
        "## 실습 4.population_in_Seoul.xls 파일을 읽으세요.\n",
        "### header 는 3번째 row 로 사용할 것입니다. 따라서 header = 2  로 셋팅하세요.\n",
        "### 엑셀파일의 컬럼은  B, D, G, J, N 만 사용할 것입니다.\n"
      ]
    },
    {
      "cell_type": "code",
      "metadata": {
        "id": "AA7fJkDDN-JM"
      },
      "source": [
        "df_pop_seoul = pd.read_excel('population_in_Seoul.xls', # 엑셀파일 불러오기\n",
        "                         header=2,                            # 2번째 로우를 컬럼명으로 지정\n",
        "                         usecols='B, D, G, J, N') # 사용할 컬럼 선택"
      ],
      "execution_count": 6,
      "outputs": []
    },
    {
      "cell_type": "code",
      "metadata": {
        "id": "IGqs0YUjN-JN"
      },
      "source": [
        ""
      ],
      "execution_count": 6,
      "outputs": []
    },
    {
      "cell_type": "markdown",
      "metadata": {
        "id": "J5sIa6EMN-JN"
      },
      "source": [
        "## 실습 5-1. pop_Seoul 의 컬럼명을 모두 출력하세요."
      ]
    },
    {
      "cell_type": "code",
      "metadata": {
        "colab": {
          "base_uri": "https://localhost:8080/"
        },
        "id": "hI6ro_ttN-JO",
        "outputId": "f7477ce1-04b1-43f4-afd4-911d05338062"
      },
      "source": [
        "df_pop_seoul.columns"
      ],
      "execution_count": 7,
      "outputs": [
        {
          "output_type": "execute_result",
          "data": {
            "text/plain": [
              "Index(['자치구', '계', '계.1', '계.2', '65세이상고령자'], dtype='object')"
            ]
          },
          "metadata": {},
          "execution_count": 7
        }
      ]
    },
    {
      "cell_type": "markdown",
      "metadata": {
        "id": "fewFUvBBN-JO"
      },
      "source": [
        "## 실습 5-2. 컬럼명을 다음처럼 바꿉니다.\n",
        "### 0번째는 '구별' , 1번째는 '인구수', 2번쨰는 '한국인', 3번째는 '외국인', 4번째는 '고령자'  로 rename"
      ]
    },
    {
      "cell_type": "code",
      "metadata": {
        "colab": {
          "base_uri": "https://localhost:8080/",
          "height": 883
        },
        "id": "kOQkQ_8uN-JO",
        "outputId": "2806b3b5-ae35-4581-d721-869eaca83718"
      },
      "source": [
        "df_pop_seoul = df_pop_seoul.rename(columns={\"자치구\":'구별', '계':'인구수', \"계.1\":'한국인', '계.2':'외국인', '65세이상고령자':'고령자'}) # 컬럼명 변경\n",
        "df_pop_seoul"
      ],
      "execution_count": 8,
      "outputs": [
        {
          "output_type": "execute_result",
          "data": {
            "text/html": [
              "<div>\n",
              "<style scoped>\n",
              "    .dataframe tbody tr th:only-of-type {\n",
              "        vertical-align: middle;\n",
              "    }\n",
              "\n",
              "    .dataframe tbody tr th {\n",
              "        vertical-align: top;\n",
              "    }\n",
              "\n",
              "    .dataframe thead th {\n",
              "        text-align: right;\n",
              "    }\n",
              "</style>\n",
              "<table border=\"1\" class=\"dataframe\">\n",
              "  <thead>\n",
              "    <tr style=\"text-align: right;\">\n",
              "      <th></th>\n",
              "      <th>구별</th>\n",
              "      <th>인구수</th>\n",
              "      <th>한국인</th>\n",
              "      <th>외국인</th>\n",
              "      <th>고령자</th>\n",
              "    </tr>\n",
              "  </thead>\n",
              "  <tbody>\n",
              "    <tr>\n",
              "      <th>0</th>\n",
              "      <td>합계</td>\n",
              "      <td>10197604.0</td>\n",
              "      <td>9926968.0</td>\n",
              "      <td>270636.0</td>\n",
              "      <td>1321458.0</td>\n",
              "    </tr>\n",
              "    <tr>\n",
              "      <th>1</th>\n",
              "      <td>종로구</td>\n",
              "      <td>162820.0</td>\n",
              "      <td>153589.0</td>\n",
              "      <td>9231.0</td>\n",
              "      <td>25425.0</td>\n",
              "    </tr>\n",
              "    <tr>\n",
              "      <th>2</th>\n",
              "      <td>중구</td>\n",
              "      <td>133240.0</td>\n",
              "      <td>124312.0</td>\n",
              "      <td>8928.0</td>\n",
              "      <td>20764.0</td>\n",
              "    </tr>\n",
              "    <tr>\n",
              "      <th>3</th>\n",
              "      <td>용산구</td>\n",
              "      <td>244203.0</td>\n",
              "      <td>229456.0</td>\n",
              "      <td>14747.0</td>\n",
              "      <td>36231.0</td>\n",
              "    </tr>\n",
              "    <tr>\n",
              "      <th>4</th>\n",
              "      <td>성동구</td>\n",
              "      <td>311244.0</td>\n",
              "      <td>303380.0</td>\n",
              "      <td>7864.0</td>\n",
              "      <td>39997.0</td>\n",
              "    </tr>\n",
              "    <tr>\n",
              "      <th>5</th>\n",
              "      <td>광진구</td>\n",
              "      <td>372164.0</td>\n",
              "      <td>357211.0</td>\n",
              "      <td>14953.0</td>\n",
              "      <td>42214.0</td>\n",
              "    </tr>\n",
              "    <tr>\n",
              "      <th>6</th>\n",
              "      <td>동대문구</td>\n",
              "      <td>369496.0</td>\n",
              "      <td>354079.0</td>\n",
              "      <td>15417.0</td>\n",
              "      <td>54173.0</td>\n",
              "    </tr>\n",
              "    <tr>\n",
              "      <th>7</th>\n",
              "      <td>중랑구</td>\n",
              "      <td>414503.0</td>\n",
              "      <td>409882.0</td>\n",
              "      <td>4621.0</td>\n",
              "      <td>56774.0</td>\n",
              "    </tr>\n",
              "    <tr>\n",
              "      <th>8</th>\n",
              "      <td>성북구</td>\n",
              "      <td>461260.0</td>\n",
              "      <td>449773.0</td>\n",
              "      <td>11487.0</td>\n",
              "      <td>64692.0</td>\n",
              "    </tr>\n",
              "    <tr>\n",
              "      <th>9</th>\n",
              "      <td>강북구</td>\n",
              "      <td>330192.0</td>\n",
              "      <td>326686.0</td>\n",
              "      <td>3506.0</td>\n",
              "      <td>54813.0</td>\n",
              "    </tr>\n",
              "    <tr>\n",
              "      <th>10</th>\n",
              "      <td>도봉구</td>\n",
              "      <td>348646.0</td>\n",
              "      <td>346629.0</td>\n",
              "      <td>2017.0</td>\n",
              "      <td>51312.0</td>\n",
              "    </tr>\n",
              "    <tr>\n",
              "      <th>11</th>\n",
              "      <td>노원구</td>\n",
              "      <td>569384.0</td>\n",
              "      <td>565565.0</td>\n",
              "      <td>3819.0</td>\n",
              "      <td>71941.0</td>\n",
              "    </tr>\n",
              "    <tr>\n",
              "      <th>12</th>\n",
              "      <td>은평구</td>\n",
              "      <td>494388.0</td>\n",
              "      <td>489943.0</td>\n",
              "      <td>4445.0</td>\n",
              "      <td>72334.0</td>\n",
              "    </tr>\n",
              "    <tr>\n",
              "      <th>13</th>\n",
              "      <td>서대문구</td>\n",
              "      <td>327163.0</td>\n",
              "      <td>314982.0</td>\n",
              "      <td>12181.0</td>\n",
              "      <td>48161.0</td>\n",
              "    </tr>\n",
              "    <tr>\n",
              "      <th>14</th>\n",
              "      <td>마포구</td>\n",
              "      <td>389649.0</td>\n",
              "      <td>378566.0</td>\n",
              "      <td>11083.0</td>\n",
              "      <td>48765.0</td>\n",
              "    </tr>\n",
              "    <tr>\n",
              "      <th>15</th>\n",
              "      <td>양천구</td>\n",
              "      <td>479978.0</td>\n",
              "      <td>475949.0</td>\n",
              "      <td>4029.0</td>\n",
              "      <td>52975.0</td>\n",
              "    </tr>\n",
              "    <tr>\n",
              "      <th>16</th>\n",
              "      <td>강서구</td>\n",
              "      <td>603772.0</td>\n",
              "      <td>597248.0</td>\n",
              "      <td>6524.0</td>\n",
              "      <td>72548.0</td>\n",
              "    </tr>\n",
              "    <tr>\n",
              "      <th>17</th>\n",
              "      <td>구로구</td>\n",
              "      <td>447874.0</td>\n",
              "      <td>416487.0</td>\n",
              "      <td>31387.0</td>\n",
              "      <td>56833.0</td>\n",
              "    </tr>\n",
              "    <tr>\n",
              "      <th>18</th>\n",
              "      <td>금천구</td>\n",
              "      <td>255082.0</td>\n",
              "      <td>236353.0</td>\n",
              "      <td>18729.0</td>\n",
              "      <td>32970.0</td>\n",
              "    </tr>\n",
              "    <tr>\n",
              "      <th>19</th>\n",
              "      <td>영등포구</td>\n",
              "      <td>402985.0</td>\n",
              "      <td>368072.0</td>\n",
              "      <td>34913.0</td>\n",
              "      <td>52413.0</td>\n",
              "    </tr>\n",
              "    <tr>\n",
              "      <th>20</th>\n",
              "      <td>동작구</td>\n",
              "      <td>412520.0</td>\n",
              "      <td>400456.0</td>\n",
              "      <td>12064.0</td>\n",
              "      <td>56013.0</td>\n",
              "    </tr>\n",
              "    <tr>\n",
              "      <th>21</th>\n",
              "      <td>관악구</td>\n",
              "      <td>525515.0</td>\n",
              "      <td>507203.0</td>\n",
              "      <td>18312.0</td>\n",
              "      <td>68082.0</td>\n",
              "    </tr>\n",
              "    <tr>\n",
              "      <th>22</th>\n",
              "      <td>서초구</td>\n",
              "      <td>450310.0</td>\n",
              "      <td>445994.0</td>\n",
              "      <td>4316.0</td>\n",
              "      <td>51733.0</td>\n",
              "    </tr>\n",
              "    <tr>\n",
              "      <th>23</th>\n",
              "      <td>강남구</td>\n",
              "      <td>570500.0</td>\n",
              "      <td>565550.0</td>\n",
              "      <td>4950.0</td>\n",
              "      <td>63167.0</td>\n",
              "    </tr>\n",
              "    <tr>\n",
              "      <th>24</th>\n",
              "      <td>송파구</td>\n",
              "      <td>667483.0</td>\n",
              "      <td>660584.0</td>\n",
              "      <td>6899.0</td>\n",
              "      <td>72506.0</td>\n",
              "    </tr>\n",
              "    <tr>\n",
              "      <th>25</th>\n",
              "      <td>강동구</td>\n",
              "      <td>453233.0</td>\n",
              "      <td>449019.0</td>\n",
              "      <td>4214.0</td>\n",
              "      <td>54622.0</td>\n",
              "    </tr>\n",
              "    <tr>\n",
              "      <th>26</th>\n",
              "      <td>NaN</td>\n",
              "      <td>NaN</td>\n",
              "      <td>NaN</td>\n",
              "      <td>NaN</td>\n",
              "      <td>NaN</td>\n",
              "    </tr>\n",
              "  </tbody>\n",
              "</table>\n",
              "</div>"
            ],
            "text/plain": [
              "      구별         인구수        한국인       외국인        고령자\n",
              "0     합계  10197604.0  9926968.0  270636.0  1321458.0\n",
              "1    종로구    162820.0   153589.0    9231.0    25425.0\n",
              "2     중구    133240.0   124312.0    8928.0    20764.0\n",
              "3    용산구    244203.0   229456.0   14747.0    36231.0\n",
              "4    성동구    311244.0   303380.0    7864.0    39997.0\n",
              "5    광진구    372164.0   357211.0   14953.0    42214.0\n",
              "6   동대문구    369496.0   354079.0   15417.0    54173.0\n",
              "7    중랑구    414503.0   409882.0    4621.0    56774.0\n",
              "8    성북구    461260.0   449773.0   11487.0    64692.0\n",
              "9    강북구    330192.0   326686.0    3506.0    54813.0\n",
              "10   도봉구    348646.0   346629.0    2017.0    51312.0\n",
              "11   노원구    569384.0   565565.0    3819.0    71941.0\n",
              "12   은평구    494388.0   489943.0    4445.0    72334.0\n",
              "13  서대문구    327163.0   314982.0   12181.0    48161.0\n",
              "14   마포구    389649.0   378566.0   11083.0    48765.0\n",
              "15   양천구    479978.0   475949.0    4029.0    52975.0\n",
              "16   강서구    603772.0   597248.0    6524.0    72548.0\n",
              "17   구로구    447874.0   416487.0   31387.0    56833.0\n",
              "18   금천구    255082.0   236353.0   18729.0    32970.0\n",
              "19  영등포구    402985.0   368072.0   34913.0    52413.0\n",
              "20   동작구    412520.0   400456.0   12064.0    56013.0\n",
              "21   관악구    525515.0   507203.0   18312.0    68082.0\n",
              "22   서초구    450310.0   445994.0    4316.0    51733.0\n",
              "23   강남구    570500.0   565550.0    4950.0    63167.0\n",
              "24   송파구    667483.0   660584.0    6899.0    72506.0\n",
              "25   강동구    453233.0   449019.0    4214.0    54622.0\n",
              "26   NaN         NaN        NaN       NaN        NaN"
            ]
          },
          "metadata": {},
          "execution_count": 8
        }
      ]
    },
    {
      "cell_type": "code",
      "metadata": {
        "id": "dI9MpnfEN-JP"
      },
      "source": [
        ""
      ],
      "execution_count": 8,
      "outputs": []
    },
    {
      "cell_type": "markdown",
      "metadata": {
        "id": "fcseQLe4N-JP"
      },
      "source": [
        "## 실습 6. CCTV 갯수가 가장 많은 순부터 적은 순으로 정렬한 후, 상위 20개만 화면에 보여주세요."
      ]
    },
    {
      "cell_type": "code",
      "metadata": {
        "colab": {
          "base_uri": "https://localhost:8080/",
          "height": 667
        },
        "id": "rKOCEwHRN-JP",
        "outputId": "f66811f4-7589-4d21-8b67-fac6a882354c"
      },
      "source": [
        "df_cctv_seoul.sort_values(by='소계', ascending=False).head(20) # cctv 갯수 순으로 정렬"
      ],
      "execution_count": 9,
      "outputs": [
        {
          "output_type": "execute_result",
          "data": {
            "text/html": [
              "<div>\n",
              "<style scoped>\n",
              "    .dataframe tbody tr th:only-of-type {\n",
              "        vertical-align: middle;\n",
              "    }\n",
              "\n",
              "    .dataframe tbody tr th {\n",
              "        vertical-align: top;\n",
              "    }\n",
              "\n",
              "    .dataframe thead th {\n",
              "        text-align: right;\n",
              "    }\n",
              "</style>\n",
              "<table border=\"1\" class=\"dataframe\">\n",
              "  <thead>\n",
              "    <tr style=\"text-align: right;\">\n",
              "      <th></th>\n",
              "      <th>구별</th>\n",
              "      <th>소계</th>\n",
              "      <th>2013년도 이전</th>\n",
              "      <th>2014년</th>\n",
              "      <th>2015년</th>\n",
              "      <th>2016년</th>\n",
              "    </tr>\n",
              "  </thead>\n",
              "  <tbody>\n",
              "    <tr>\n",
              "      <th>0</th>\n",
              "      <td>강남구</td>\n",
              "      <td>2780</td>\n",
              "      <td>1292</td>\n",
              "      <td>430</td>\n",
              "      <td>584</td>\n",
              "      <td>932</td>\n",
              "    </tr>\n",
              "    <tr>\n",
              "      <th>18</th>\n",
              "      <td>양천구</td>\n",
              "      <td>2034</td>\n",
              "      <td>1843</td>\n",
              "      <td>142</td>\n",
              "      <td>30</td>\n",
              "      <td>467</td>\n",
              "    </tr>\n",
              "    <tr>\n",
              "      <th>14</th>\n",
              "      <td>서초구</td>\n",
              "      <td>1930</td>\n",
              "      <td>1406</td>\n",
              "      <td>157</td>\n",
              "      <td>336</td>\n",
              "      <td>398</td>\n",
              "    </tr>\n",
              "    <tr>\n",
              "      <th>21</th>\n",
              "      <td>은평구</td>\n",
              "      <td>1873</td>\n",
              "      <td>1138</td>\n",
              "      <td>224</td>\n",
              "      <td>278</td>\n",
              "      <td>468</td>\n",
              "    </tr>\n",
              "    <tr>\n",
              "      <th>20</th>\n",
              "      <td>용산구</td>\n",
              "      <td>1624</td>\n",
              "      <td>1368</td>\n",
              "      <td>218</td>\n",
              "      <td>112</td>\n",
              "      <td>398</td>\n",
              "    </tr>\n",
              "    <tr>\n",
              "      <th>6</th>\n",
              "      <td>구로구</td>\n",
              "      <td>1561</td>\n",
              "      <td>1142</td>\n",
              "      <td>173</td>\n",
              "      <td>246</td>\n",
              "      <td>323</td>\n",
              "    </tr>\n",
              "    <tr>\n",
              "      <th>4</th>\n",
              "      <td>관악구</td>\n",
              "      <td>1496</td>\n",
              "      <td>846</td>\n",
              "      <td>260</td>\n",
              "      <td>390</td>\n",
              "      <td>613</td>\n",
              "    </tr>\n",
              "    <tr>\n",
              "      <th>16</th>\n",
              "      <td>성북구</td>\n",
              "      <td>1464</td>\n",
              "      <td>1009</td>\n",
              "      <td>78</td>\n",
              "      <td>360</td>\n",
              "      <td>204</td>\n",
              "    </tr>\n",
              "    <tr>\n",
              "      <th>10</th>\n",
              "      <td>동대문구</td>\n",
              "      <td>1294</td>\n",
              "      <td>1070</td>\n",
              "      <td>23</td>\n",
              "      <td>198</td>\n",
              "      <td>579</td>\n",
              "    </tr>\n",
              "    <tr>\n",
              "      <th>8</th>\n",
              "      <td>노원구</td>\n",
              "      <td>1265</td>\n",
              "      <td>542</td>\n",
              "      <td>57</td>\n",
              "      <td>451</td>\n",
              "      <td>516</td>\n",
              "    </tr>\n",
              "    <tr>\n",
              "      <th>11</th>\n",
              "      <td>동작구</td>\n",
              "      <td>1091</td>\n",
              "      <td>544</td>\n",
              "      <td>341</td>\n",
              "      <td>103</td>\n",
              "      <td>314</td>\n",
              "    </tr>\n",
              "    <tr>\n",
              "      <th>15</th>\n",
              "      <td>성동구</td>\n",
              "      <td>1062</td>\n",
              "      <td>730</td>\n",
              "      <td>91</td>\n",
              "      <td>241</td>\n",
              "      <td>265</td>\n",
              "    </tr>\n",
              "    <tr>\n",
              "      <th>7</th>\n",
              "      <td>금천구</td>\n",
              "      <td>1015</td>\n",
              "      <td>674</td>\n",
              "      <td>51</td>\n",
              "      <td>269</td>\n",
              "      <td>354</td>\n",
              "    </tr>\n",
              "    <tr>\n",
              "      <th>22</th>\n",
              "      <td>종로구</td>\n",
              "      <td>1002</td>\n",
              "      <td>464</td>\n",
              "      <td>314</td>\n",
              "      <td>211</td>\n",
              "      <td>630</td>\n",
              "    </tr>\n",
              "    <tr>\n",
              "      <th>13</th>\n",
              "      <td>서대문구</td>\n",
              "      <td>962</td>\n",
              "      <td>844</td>\n",
              "      <td>50</td>\n",
              "      <td>68</td>\n",
              "      <td>292</td>\n",
              "    </tr>\n",
              "    <tr>\n",
              "      <th>19</th>\n",
              "      <td>영등포구</td>\n",
              "      <td>904</td>\n",
              "      <td>495</td>\n",
              "      <td>214</td>\n",
              "      <td>195</td>\n",
              "      <td>373</td>\n",
              "    </tr>\n",
              "    <tr>\n",
              "      <th>3</th>\n",
              "      <td>강서구</td>\n",
              "      <td>884</td>\n",
              "      <td>388</td>\n",
              "      <td>258</td>\n",
              "      <td>184</td>\n",
              "      <td>81</td>\n",
              "    </tr>\n",
              "    <tr>\n",
              "      <th>1</th>\n",
              "      <td>강동구</td>\n",
              "      <td>773</td>\n",
              "      <td>379</td>\n",
              "      <td>99</td>\n",
              "      <td>155</td>\n",
              "      <td>377</td>\n",
              "    </tr>\n",
              "    <tr>\n",
              "      <th>2</th>\n",
              "      <td>강북구</td>\n",
              "      <td>748</td>\n",
              "      <td>369</td>\n",
              "      <td>120</td>\n",
              "      <td>138</td>\n",
              "      <td>204</td>\n",
              "    </tr>\n",
              "    <tr>\n",
              "      <th>5</th>\n",
              "      <td>광진구</td>\n",
              "      <td>707</td>\n",
              "      <td>573</td>\n",
              "      <td>78</td>\n",
              "      <td>53</td>\n",
              "      <td>174</td>\n",
              "    </tr>\n",
              "  </tbody>\n",
              "</table>\n",
              "</div>"
            ],
            "text/plain": [
              "      구별    소계  2013년도 이전  2014년  2015년  2016년\n",
              "0    강남구  2780       1292    430    584    932\n",
              "18   양천구  2034       1843    142     30    467\n",
              "14   서초구  1930       1406    157    336    398\n",
              "21   은평구  1873       1138    224    278    468\n",
              "20   용산구  1624       1368    218    112    398\n",
              "6    구로구  1561       1142    173    246    323\n",
              "4    관악구  1496        846    260    390    613\n",
              "16   성북구  1464       1009     78    360    204\n",
              "10  동대문구  1294       1070     23    198    579\n",
              "8    노원구  1265        542     57    451    516\n",
              "11   동작구  1091        544    341    103    314\n",
              "15   성동구  1062        730     91    241    265\n",
              "7    금천구  1015        674     51    269    354\n",
              "22   종로구  1002        464    314    211    630\n",
              "13  서대문구   962        844     50     68    292\n",
              "19  영등포구   904        495    214    195    373\n",
              "3    강서구   884        388    258    184     81\n",
              "1    강동구   773        379     99    155    377\n",
              "2    강북구   748        369    120    138    204\n",
              "5    광진구   707        573     78     53    174"
            ]
          },
          "metadata": {},
          "execution_count": 9
        }
      ]
    },
    {
      "cell_type": "code",
      "metadata": {
        "id": "qenWtDJJN-JP"
      },
      "source": [
        ""
      ],
      "execution_count": 9,
      "outputs": []
    },
    {
      "cell_type": "markdown",
      "metadata": {
        "id": "oLonLTJ5N-JP"
      },
      "source": [
        "## 실습 7. 최근 3년간 CCTV 증가율을 계산하여, dataframe 에 '최근증가율' 컬럼을 추가하세요.\n",
        "### 증가율 계산  :  (2016 + 2015 + 2014) / 2013이전 * 100"
      ]
    },
    {
      "cell_type": "code",
      "metadata": {
        "id": "OYNx0AUcN-JP"
      },
      "source": [
        "# 최근 3년간  cctv 증가율\n",
        "df_cctv_seoul['최근증가율'] = ( df_cctv_seoul['2016년'] + df_cctv_seoul['2015년'] + df_cctv_seoul['2014년'] ) / df_cctv_seoul['2013년도 이전'] * 100"
      ],
      "execution_count": 10,
      "outputs": []
    },
    {
      "cell_type": "code",
      "metadata": {
        "colab": {
          "base_uri": "https://localhost:8080/",
          "height": 0
        },
        "id": "e3OCvfjwN-JQ",
        "outputId": "5df00bf7-58eb-4a20-a283-7654921bb931"
      },
      "source": [
        "df_cctv_seoul"
      ],
      "execution_count": 11,
      "outputs": [
        {
          "output_type": "execute_result",
          "data": {
            "text/html": [
              "<div>\n",
              "<style scoped>\n",
              "    .dataframe tbody tr th:only-of-type {\n",
              "        vertical-align: middle;\n",
              "    }\n",
              "\n",
              "    .dataframe tbody tr th {\n",
              "        vertical-align: top;\n",
              "    }\n",
              "\n",
              "    .dataframe thead th {\n",
              "        text-align: right;\n",
              "    }\n",
              "</style>\n",
              "<table border=\"1\" class=\"dataframe\">\n",
              "  <thead>\n",
              "    <tr style=\"text-align: right;\">\n",
              "      <th></th>\n",
              "      <th>구별</th>\n",
              "      <th>소계</th>\n",
              "      <th>2013년도 이전</th>\n",
              "      <th>2014년</th>\n",
              "      <th>2015년</th>\n",
              "      <th>2016년</th>\n",
              "      <th>최근증가율</th>\n",
              "    </tr>\n",
              "  </thead>\n",
              "  <tbody>\n",
              "    <tr>\n",
              "      <th>0</th>\n",
              "      <td>강남구</td>\n",
              "      <td>2780</td>\n",
              "      <td>1292</td>\n",
              "      <td>430</td>\n",
              "      <td>584</td>\n",
              "      <td>932</td>\n",
              "      <td>150.619195</td>\n",
              "    </tr>\n",
              "    <tr>\n",
              "      <th>1</th>\n",
              "      <td>강동구</td>\n",
              "      <td>773</td>\n",
              "      <td>379</td>\n",
              "      <td>99</td>\n",
              "      <td>155</td>\n",
              "      <td>377</td>\n",
              "      <td>166.490765</td>\n",
              "    </tr>\n",
              "    <tr>\n",
              "      <th>2</th>\n",
              "      <td>강북구</td>\n",
              "      <td>748</td>\n",
              "      <td>369</td>\n",
              "      <td>120</td>\n",
              "      <td>138</td>\n",
              "      <td>204</td>\n",
              "      <td>125.203252</td>\n",
              "    </tr>\n",
              "    <tr>\n",
              "      <th>3</th>\n",
              "      <td>강서구</td>\n",
              "      <td>884</td>\n",
              "      <td>388</td>\n",
              "      <td>258</td>\n",
              "      <td>184</td>\n",
              "      <td>81</td>\n",
              "      <td>134.793814</td>\n",
              "    </tr>\n",
              "    <tr>\n",
              "      <th>4</th>\n",
              "      <td>관악구</td>\n",
              "      <td>1496</td>\n",
              "      <td>846</td>\n",
              "      <td>260</td>\n",
              "      <td>390</td>\n",
              "      <td>613</td>\n",
              "      <td>149.290780</td>\n",
              "    </tr>\n",
              "    <tr>\n",
              "      <th>5</th>\n",
              "      <td>광진구</td>\n",
              "      <td>707</td>\n",
              "      <td>573</td>\n",
              "      <td>78</td>\n",
              "      <td>53</td>\n",
              "      <td>174</td>\n",
              "      <td>53.228621</td>\n",
              "    </tr>\n",
              "    <tr>\n",
              "      <th>6</th>\n",
              "      <td>구로구</td>\n",
              "      <td>1561</td>\n",
              "      <td>1142</td>\n",
              "      <td>173</td>\n",
              "      <td>246</td>\n",
              "      <td>323</td>\n",
              "      <td>64.973730</td>\n",
              "    </tr>\n",
              "    <tr>\n",
              "      <th>7</th>\n",
              "      <td>금천구</td>\n",
              "      <td>1015</td>\n",
              "      <td>674</td>\n",
              "      <td>51</td>\n",
              "      <td>269</td>\n",
              "      <td>354</td>\n",
              "      <td>100.000000</td>\n",
              "    </tr>\n",
              "    <tr>\n",
              "      <th>8</th>\n",
              "      <td>노원구</td>\n",
              "      <td>1265</td>\n",
              "      <td>542</td>\n",
              "      <td>57</td>\n",
              "      <td>451</td>\n",
              "      <td>516</td>\n",
              "      <td>188.929889</td>\n",
              "    </tr>\n",
              "    <tr>\n",
              "      <th>9</th>\n",
              "      <td>도봉구</td>\n",
              "      <td>485</td>\n",
              "      <td>238</td>\n",
              "      <td>159</td>\n",
              "      <td>42</td>\n",
              "      <td>386</td>\n",
              "      <td>246.638655</td>\n",
              "    </tr>\n",
              "    <tr>\n",
              "      <th>10</th>\n",
              "      <td>동대문구</td>\n",
              "      <td>1294</td>\n",
              "      <td>1070</td>\n",
              "      <td>23</td>\n",
              "      <td>198</td>\n",
              "      <td>579</td>\n",
              "      <td>74.766355</td>\n",
              "    </tr>\n",
              "    <tr>\n",
              "      <th>11</th>\n",
              "      <td>동작구</td>\n",
              "      <td>1091</td>\n",
              "      <td>544</td>\n",
              "      <td>341</td>\n",
              "      <td>103</td>\n",
              "      <td>314</td>\n",
              "      <td>139.338235</td>\n",
              "    </tr>\n",
              "    <tr>\n",
              "      <th>12</th>\n",
              "      <td>마포구</td>\n",
              "      <td>574</td>\n",
              "      <td>314</td>\n",
              "      <td>118</td>\n",
              "      <td>169</td>\n",
              "      <td>379</td>\n",
              "      <td>212.101911</td>\n",
              "    </tr>\n",
              "    <tr>\n",
              "      <th>13</th>\n",
              "      <td>서대문구</td>\n",
              "      <td>962</td>\n",
              "      <td>844</td>\n",
              "      <td>50</td>\n",
              "      <td>68</td>\n",
              "      <td>292</td>\n",
              "      <td>48.578199</td>\n",
              "    </tr>\n",
              "    <tr>\n",
              "      <th>14</th>\n",
              "      <td>서초구</td>\n",
              "      <td>1930</td>\n",
              "      <td>1406</td>\n",
              "      <td>157</td>\n",
              "      <td>336</td>\n",
              "      <td>398</td>\n",
              "      <td>63.371266</td>\n",
              "    </tr>\n",
              "    <tr>\n",
              "      <th>15</th>\n",
              "      <td>성동구</td>\n",
              "      <td>1062</td>\n",
              "      <td>730</td>\n",
              "      <td>91</td>\n",
              "      <td>241</td>\n",
              "      <td>265</td>\n",
              "      <td>81.780822</td>\n",
              "    </tr>\n",
              "    <tr>\n",
              "      <th>16</th>\n",
              "      <td>성북구</td>\n",
              "      <td>1464</td>\n",
              "      <td>1009</td>\n",
              "      <td>78</td>\n",
              "      <td>360</td>\n",
              "      <td>204</td>\n",
              "      <td>63.627354</td>\n",
              "    </tr>\n",
              "    <tr>\n",
              "      <th>17</th>\n",
              "      <td>송파구</td>\n",
              "      <td>618</td>\n",
              "      <td>529</td>\n",
              "      <td>21</td>\n",
              "      <td>68</td>\n",
              "      <td>463</td>\n",
              "      <td>104.347826</td>\n",
              "    </tr>\n",
              "    <tr>\n",
              "      <th>18</th>\n",
              "      <td>양천구</td>\n",
              "      <td>2034</td>\n",
              "      <td>1843</td>\n",
              "      <td>142</td>\n",
              "      <td>30</td>\n",
              "      <td>467</td>\n",
              "      <td>34.671731</td>\n",
              "    </tr>\n",
              "    <tr>\n",
              "      <th>19</th>\n",
              "      <td>영등포구</td>\n",
              "      <td>904</td>\n",
              "      <td>495</td>\n",
              "      <td>214</td>\n",
              "      <td>195</td>\n",
              "      <td>373</td>\n",
              "      <td>157.979798</td>\n",
              "    </tr>\n",
              "    <tr>\n",
              "      <th>20</th>\n",
              "      <td>용산구</td>\n",
              "      <td>1624</td>\n",
              "      <td>1368</td>\n",
              "      <td>218</td>\n",
              "      <td>112</td>\n",
              "      <td>398</td>\n",
              "      <td>53.216374</td>\n",
              "    </tr>\n",
              "    <tr>\n",
              "      <th>21</th>\n",
              "      <td>은평구</td>\n",
              "      <td>1873</td>\n",
              "      <td>1138</td>\n",
              "      <td>224</td>\n",
              "      <td>278</td>\n",
              "      <td>468</td>\n",
              "      <td>85.237258</td>\n",
              "    </tr>\n",
              "    <tr>\n",
              "      <th>22</th>\n",
              "      <td>종로구</td>\n",
              "      <td>1002</td>\n",
              "      <td>464</td>\n",
              "      <td>314</td>\n",
              "      <td>211</td>\n",
              "      <td>630</td>\n",
              "      <td>248.922414</td>\n",
              "    </tr>\n",
              "    <tr>\n",
              "      <th>23</th>\n",
              "      <td>중구</td>\n",
              "      <td>671</td>\n",
              "      <td>413</td>\n",
              "      <td>190</td>\n",
              "      <td>72</td>\n",
              "      <td>348</td>\n",
              "      <td>147.699758</td>\n",
              "    </tr>\n",
              "    <tr>\n",
              "      <th>24</th>\n",
              "      <td>중랑구</td>\n",
              "      <td>660</td>\n",
              "      <td>509</td>\n",
              "      <td>121</td>\n",
              "      <td>177</td>\n",
              "      <td>109</td>\n",
              "      <td>79.960707</td>\n",
              "    </tr>\n",
              "  </tbody>\n",
              "</table>\n",
              "</div>"
            ],
            "text/plain": [
              "      구별    소계  2013년도 이전  2014년  2015년  2016년       최근증가율\n",
              "0    강남구  2780       1292    430    584    932  150.619195\n",
              "1    강동구   773        379     99    155    377  166.490765\n",
              "2    강북구   748        369    120    138    204  125.203252\n",
              "3    강서구   884        388    258    184     81  134.793814\n",
              "4    관악구  1496        846    260    390    613  149.290780\n",
              "5    광진구   707        573     78     53    174   53.228621\n",
              "6    구로구  1561       1142    173    246    323   64.973730\n",
              "7    금천구  1015        674     51    269    354  100.000000\n",
              "8    노원구  1265        542     57    451    516  188.929889\n",
              "9    도봉구   485        238    159     42    386  246.638655\n",
              "10  동대문구  1294       1070     23    198    579   74.766355\n",
              "11   동작구  1091        544    341    103    314  139.338235\n",
              "12   마포구   574        314    118    169    379  212.101911\n",
              "13  서대문구   962        844     50     68    292   48.578199\n",
              "14   서초구  1930       1406    157    336    398   63.371266\n",
              "15   성동구  1062        730     91    241    265   81.780822\n",
              "16   성북구  1464       1009     78    360    204   63.627354\n",
              "17   송파구   618        529     21     68    463  104.347826\n",
              "18   양천구  2034       1843    142     30    467   34.671731\n",
              "19  영등포구   904        495    214    195    373  157.979798\n",
              "20   용산구  1624       1368    218    112    398   53.216374\n",
              "21   은평구  1873       1138    224    278    468   85.237258\n",
              "22   종로구  1002        464    314    211    630  248.922414\n",
              "23    중구   671        413    190     72    348  147.699758\n",
              "24   중랑구   660        509    121    177    109   79.960707"
            ]
          },
          "metadata": {},
          "execution_count": 11
        }
      ]
    },
    {
      "cell_type": "code",
      "metadata": {
        "id": "fzSuQcJbN-JQ"
      },
      "source": [
        ""
      ],
      "execution_count": 11,
      "outputs": []
    },
    {
      "cell_type": "markdown",
      "metadata": {
        "id": "Gz6lQIxtN-JQ"
      },
      "source": [
        "## 실습 8. 최근 3년간 CCTV 증가율이 가장 높은 순으로 5개의 구를 찾으세요."
      ]
    },
    {
      "cell_type": "code",
      "metadata": {
        "colab": {
          "base_uri": "https://localhost:8080/",
          "height": 0
        },
        "id": "K5Xmi5hTN-JQ",
        "outputId": "4211e719-3294-4e83-95c5-ca982504d671"
      },
      "source": [
        "df_cctv_seoul.sort_values(by='최근증가율', ascending=False).head() # cctv증가율을 기준으로 정렬"
      ],
      "execution_count": 12,
      "outputs": [
        {
          "output_type": "execute_result",
          "data": {
            "text/html": [
              "<div>\n",
              "<style scoped>\n",
              "    .dataframe tbody tr th:only-of-type {\n",
              "        vertical-align: middle;\n",
              "    }\n",
              "\n",
              "    .dataframe tbody tr th {\n",
              "        vertical-align: top;\n",
              "    }\n",
              "\n",
              "    .dataframe thead th {\n",
              "        text-align: right;\n",
              "    }\n",
              "</style>\n",
              "<table border=\"1\" class=\"dataframe\">\n",
              "  <thead>\n",
              "    <tr style=\"text-align: right;\">\n",
              "      <th></th>\n",
              "      <th>구별</th>\n",
              "      <th>소계</th>\n",
              "      <th>2013년도 이전</th>\n",
              "      <th>2014년</th>\n",
              "      <th>2015년</th>\n",
              "      <th>2016년</th>\n",
              "      <th>최근증가율</th>\n",
              "    </tr>\n",
              "  </thead>\n",
              "  <tbody>\n",
              "    <tr>\n",
              "      <th>22</th>\n",
              "      <td>종로구</td>\n",
              "      <td>1002</td>\n",
              "      <td>464</td>\n",
              "      <td>314</td>\n",
              "      <td>211</td>\n",
              "      <td>630</td>\n",
              "      <td>248.922414</td>\n",
              "    </tr>\n",
              "    <tr>\n",
              "      <th>9</th>\n",
              "      <td>도봉구</td>\n",
              "      <td>485</td>\n",
              "      <td>238</td>\n",
              "      <td>159</td>\n",
              "      <td>42</td>\n",
              "      <td>386</td>\n",
              "      <td>246.638655</td>\n",
              "    </tr>\n",
              "    <tr>\n",
              "      <th>12</th>\n",
              "      <td>마포구</td>\n",
              "      <td>574</td>\n",
              "      <td>314</td>\n",
              "      <td>118</td>\n",
              "      <td>169</td>\n",
              "      <td>379</td>\n",
              "      <td>212.101911</td>\n",
              "    </tr>\n",
              "    <tr>\n",
              "      <th>8</th>\n",
              "      <td>노원구</td>\n",
              "      <td>1265</td>\n",
              "      <td>542</td>\n",
              "      <td>57</td>\n",
              "      <td>451</td>\n",
              "      <td>516</td>\n",
              "      <td>188.929889</td>\n",
              "    </tr>\n",
              "    <tr>\n",
              "      <th>1</th>\n",
              "      <td>강동구</td>\n",
              "      <td>773</td>\n",
              "      <td>379</td>\n",
              "      <td>99</td>\n",
              "      <td>155</td>\n",
              "      <td>377</td>\n",
              "      <td>166.490765</td>\n",
              "    </tr>\n",
              "  </tbody>\n",
              "</table>\n",
              "</div>"
            ],
            "text/plain": [
              "     구별    소계  2013년도 이전  2014년  2015년  2016년       최근증가율\n",
              "22  종로구  1002        464    314    211    630  248.922414\n",
              "9   도봉구   485        238    159     42    386  246.638655\n",
              "12  마포구   574        314    118    169    379  212.101911\n",
              "8   노원구  1265        542     57    451    516  188.929889\n",
              "1   강동구   773        379     99    155    377  166.490765"
            ]
          },
          "metadata": {},
          "execution_count": 12
        }
      ]
    },
    {
      "cell_type": "code",
      "metadata": {
        "id": "_d7mp6jnN-JQ"
      },
      "source": [
        ""
      ],
      "execution_count": 12,
      "outputs": []
    },
    {
      "cell_type": "markdown",
      "metadata": {
        "id": "SlwC9fLSN-JR"
      },
      "source": [
        "## 실습 9. 서울시의 인구 데이터 중, 가장 첫번째 로우(row) 는 필요 없으니, 삭제하세요."
      ]
    },
    {
      "cell_type": "code",
      "metadata": {
        "id": "6KfIDePUN-JR"
      },
      "source": [
        "df_pop_seoul = df_pop_seoul.drop(axis=0, index=0) # 첫 번째 row 삭제"
      ],
      "execution_count": 13,
      "outputs": []
    },
    {
      "cell_type": "code",
      "metadata": {
        "colab": {
          "base_uri": "https://localhost:8080/",
          "height": 0
        },
        "id": "SBof0ba8N-JR",
        "outputId": "ee313b44-cf77-4378-c670-09c59bacfdb0"
      },
      "source": [
        "df_pop_seoul.head()"
      ],
      "execution_count": 14,
      "outputs": [
        {
          "output_type": "execute_result",
          "data": {
            "text/html": [
              "<div>\n",
              "<style scoped>\n",
              "    .dataframe tbody tr th:only-of-type {\n",
              "        vertical-align: middle;\n",
              "    }\n",
              "\n",
              "    .dataframe tbody tr th {\n",
              "        vertical-align: top;\n",
              "    }\n",
              "\n",
              "    .dataframe thead th {\n",
              "        text-align: right;\n",
              "    }\n",
              "</style>\n",
              "<table border=\"1\" class=\"dataframe\">\n",
              "  <thead>\n",
              "    <tr style=\"text-align: right;\">\n",
              "      <th></th>\n",
              "      <th>구별</th>\n",
              "      <th>인구수</th>\n",
              "      <th>한국인</th>\n",
              "      <th>외국인</th>\n",
              "      <th>고령자</th>\n",
              "    </tr>\n",
              "  </thead>\n",
              "  <tbody>\n",
              "    <tr>\n",
              "      <th>1</th>\n",
              "      <td>종로구</td>\n",
              "      <td>162820.0</td>\n",
              "      <td>153589.0</td>\n",
              "      <td>9231.0</td>\n",
              "      <td>25425.0</td>\n",
              "    </tr>\n",
              "    <tr>\n",
              "      <th>2</th>\n",
              "      <td>중구</td>\n",
              "      <td>133240.0</td>\n",
              "      <td>124312.0</td>\n",
              "      <td>8928.0</td>\n",
              "      <td>20764.0</td>\n",
              "    </tr>\n",
              "    <tr>\n",
              "      <th>3</th>\n",
              "      <td>용산구</td>\n",
              "      <td>244203.0</td>\n",
              "      <td>229456.0</td>\n",
              "      <td>14747.0</td>\n",
              "      <td>36231.0</td>\n",
              "    </tr>\n",
              "    <tr>\n",
              "      <th>4</th>\n",
              "      <td>성동구</td>\n",
              "      <td>311244.0</td>\n",
              "      <td>303380.0</td>\n",
              "      <td>7864.0</td>\n",
              "      <td>39997.0</td>\n",
              "    </tr>\n",
              "    <tr>\n",
              "      <th>5</th>\n",
              "      <td>광진구</td>\n",
              "      <td>372164.0</td>\n",
              "      <td>357211.0</td>\n",
              "      <td>14953.0</td>\n",
              "      <td>42214.0</td>\n",
              "    </tr>\n",
              "  </tbody>\n",
              "</table>\n",
              "</div>"
            ],
            "text/plain": [
              "    구별       인구수       한국인      외국인      고령자\n",
              "1  종로구  162820.0  153589.0   9231.0  25425.0\n",
              "2   중구  133240.0  124312.0   8928.0  20764.0\n",
              "3  용산구  244203.0  229456.0  14747.0  36231.0\n",
              "4  성동구  311244.0  303380.0   7864.0  39997.0\n",
              "5  광진구  372164.0  357211.0  14953.0  42214.0"
            ]
          },
          "metadata": {},
          "execution_count": 14
        }
      ]
    },
    {
      "cell_type": "code",
      "metadata": {
        "id": "iwEw3xpgN-JR"
      },
      "source": [
        ""
      ],
      "execution_count": 14,
      "outputs": []
    },
    {
      "cell_type": "markdown",
      "metadata": {
        "id": "9u9jJOOjN-JR"
      },
      "source": [
        "## 실습 9. 서울시의 인구 데이터 중, NaN이 있는지 확인하고, NaN이 있으면 해당 row를 삭제하세요."
      ]
    },
    {
      "cell_type": "code",
      "metadata": {
        "id": "EkSiYuKPN-JR"
      },
      "source": [
        "df_pop_seoul.isna().sum() # Check for missing values\n",
        "df_pop_seoul = df_pop_seoul.dropna() # Delete for missing values"
      ],
      "execution_count": 15,
      "outputs": []
    },
    {
      "cell_type": "code",
      "metadata": {
        "id": "KWYqZstqN-JS"
      },
      "source": [
        ""
      ],
      "execution_count": 15,
      "outputs": []
    },
    {
      "cell_type": "markdown",
      "metadata": {
        "id": "MUUrLToHN-JS"
      },
      "source": [
        "## 실습 10. '외국인비율' 과 '고령자비율' 두개의 컬럼을 추가하세요.\n",
        "### 외국인비율 = 외국인 수 / 인구수 * 100\n",
        "### 고령자비율 = 고령자 수 / 인구수 * 100"
      ]
    },
    {
      "cell_type": "code",
      "metadata": {
        "id": "i7HbC8bBN-JS"
      },
      "source": [
        "df_pop_seoul['외국인비율'] = df_pop_seoul['외국인'] / df_pop_seoul['인구수'] * 100\n",
        "df_pop_seoul['고령자비율'] = df_pop_seoul['고령자'] / df_pop_seoul['인구수'] * 100"
      ],
      "execution_count": 16,
      "outputs": []
    },
    {
      "cell_type": "code",
      "metadata": {
        "colab": {
          "base_uri": "https://localhost:8080/",
          "height": 0
        },
        "id": "znjyeIo7N-JS",
        "outputId": "36aa2bd8-6a9c-41d8-e510-0c3257997fbb"
      },
      "source": [
        "df_pop_seoul"
      ],
      "execution_count": 17,
      "outputs": [
        {
          "output_type": "execute_result",
          "data": {
            "text/html": [
              "<div>\n",
              "<style scoped>\n",
              "    .dataframe tbody tr th:only-of-type {\n",
              "        vertical-align: middle;\n",
              "    }\n",
              "\n",
              "    .dataframe tbody tr th {\n",
              "        vertical-align: top;\n",
              "    }\n",
              "\n",
              "    .dataframe thead th {\n",
              "        text-align: right;\n",
              "    }\n",
              "</style>\n",
              "<table border=\"1\" class=\"dataframe\">\n",
              "  <thead>\n",
              "    <tr style=\"text-align: right;\">\n",
              "      <th></th>\n",
              "      <th>구별</th>\n",
              "      <th>인구수</th>\n",
              "      <th>한국인</th>\n",
              "      <th>외국인</th>\n",
              "      <th>고령자</th>\n",
              "      <th>외국인비율</th>\n",
              "      <th>고령자비율</th>\n",
              "    </tr>\n",
              "  </thead>\n",
              "  <tbody>\n",
              "    <tr>\n",
              "      <th>1</th>\n",
              "      <td>종로구</td>\n",
              "      <td>162820.0</td>\n",
              "      <td>153589.0</td>\n",
              "      <td>9231.0</td>\n",
              "      <td>25425.0</td>\n",
              "      <td>5.669451</td>\n",
              "      <td>15.615404</td>\n",
              "    </tr>\n",
              "    <tr>\n",
              "      <th>2</th>\n",
              "      <td>중구</td>\n",
              "      <td>133240.0</td>\n",
              "      <td>124312.0</td>\n",
              "      <td>8928.0</td>\n",
              "      <td>20764.0</td>\n",
              "      <td>6.700690</td>\n",
              "      <td>15.583909</td>\n",
              "    </tr>\n",
              "    <tr>\n",
              "      <th>3</th>\n",
              "      <td>용산구</td>\n",
              "      <td>244203.0</td>\n",
              "      <td>229456.0</td>\n",
              "      <td>14747.0</td>\n",
              "      <td>36231.0</td>\n",
              "      <td>6.038828</td>\n",
              "      <td>14.836427</td>\n",
              "    </tr>\n",
              "    <tr>\n",
              "      <th>4</th>\n",
              "      <td>성동구</td>\n",
              "      <td>311244.0</td>\n",
              "      <td>303380.0</td>\n",
              "      <td>7864.0</td>\n",
              "      <td>39997.0</td>\n",
              "      <td>2.526635</td>\n",
              "      <td>12.850689</td>\n",
              "    </tr>\n",
              "    <tr>\n",
              "      <th>5</th>\n",
              "      <td>광진구</td>\n",
              "      <td>372164.0</td>\n",
              "      <td>357211.0</td>\n",
              "      <td>14953.0</td>\n",
              "      <td>42214.0</td>\n",
              "      <td>4.017852</td>\n",
              "      <td>11.342849</td>\n",
              "    </tr>\n",
              "    <tr>\n",
              "      <th>6</th>\n",
              "      <td>동대문구</td>\n",
              "      <td>369496.0</td>\n",
              "      <td>354079.0</td>\n",
              "      <td>15417.0</td>\n",
              "      <td>54173.0</td>\n",
              "      <td>4.172440</td>\n",
              "      <td>14.661322</td>\n",
              "    </tr>\n",
              "    <tr>\n",
              "      <th>7</th>\n",
              "      <td>중랑구</td>\n",
              "      <td>414503.0</td>\n",
              "      <td>409882.0</td>\n",
              "      <td>4621.0</td>\n",
              "      <td>56774.0</td>\n",
              "      <td>1.114829</td>\n",
              "      <td>13.696885</td>\n",
              "    </tr>\n",
              "    <tr>\n",
              "      <th>8</th>\n",
              "      <td>성북구</td>\n",
              "      <td>461260.0</td>\n",
              "      <td>449773.0</td>\n",
              "      <td>11487.0</td>\n",
              "      <td>64692.0</td>\n",
              "      <td>2.490353</td>\n",
              "      <td>14.025062</td>\n",
              "    </tr>\n",
              "    <tr>\n",
              "      <th>9</th>\n",
              "      <td>강북구</td>\n",
              "      <td>330192.0</td>\n",
              "      <td>326686.0</td>\n",
              "      <td>3506.0</td>\n",
              "      <td>54813.0</td>\n",
              "      <td>1.061806</td>\n",
              "      <td>16.600342</td>\n",
              "    </tr>\n",
              "    <tr>\n",
              "      <th>10</th>\n",
              "      <td>도봉구</td>\n",
              "      <td>348646.0</td>\n",
              "      <td>346629.0</td>\n",
              "      <td>2017.0</td>\n",
              "      <td>51312.0</td>\n",
              "      <td>0.578524</td>\n",
              "      <td>14.717507</td>\n",
              "    </tr>\n",
              "    <tr>\n",
              "      <th>11</th>\n",
              "      <td>노원구</td>\n",
              "      <td>569384.0</td>\n",
              "      <td>565565.0</td>\n",
              "      <td>3819.0</td>\n",
              "      <td>71941.0</td>\n",
              "      <td>0.670725</td>\n",
              "      <td>12.634883</td>\n",
              "    </tr>\n",
              "    <tr>\n",
              "      <th>12</th>\n",
              "      <td>은평구</td>\n",
              "      <td>494388.0</td>\n",
              "      <td>489943.0</td>\n",
              "      <td>4445.0</td>\n",
              "      <td>72334.0</td>\n",
              "      <td>0.899091</td>\n",
              "      <td>14.631019</td>\n",
              "    </tr>\n",
              "    <tr>\n",
              "      <th>13</th>\n",
              "      <td>서대문구</td>\n",
              "      <td>327163.0</td>\n",
              "      <td>314982.0</td>\n",
              "      <td>12181.0</td>\n",
              "      <td>48161.0</td>\n",
              "      <td>3.723221</td>\n",
              "      <td>14.720797</td>\n",
              "    </tr>\n",
              "    <tr>\n",
              "      <th>14</th>\n",
              "      <td>마포구</td>\n",
              "      <td>389649.0</td>\n",
              "      <td>378566.0</td>\n",
              "      <td>11083.0</td>\n",
              "      <td>48765.0</td>\n",
              "      <td>2.844355</td>\n",
              "      <td>12.515110</td>\n",
              "    </tr>\n",
              "    <tr>\n",
              "      <th>15</th>\n",
              "      <td>양천구</td>\n",
              "      <td>479978.0</td>\n",
              "      <td>475949.0</td>\n",
              "      <td>4029.0</td>\n",
              "      <td>52975.0</td>\n",
              "      <td>0.839413</td>\n",
              "      <td>11.036964</td>\n",
              "    </tr>\n",
              "    <tr>\n",
              "      <th>16</th>\n",
              "      <td>강서구</td>\n",
              "      <td>603772.0</td>\n",
              "      <td>597248.0</td>\n",
              "      <td>6524.0</td>\n",
              "      <td>72548.0</td>\n",
              "      <td>1.080540</td>\n",
              "      <td>12.015794</td>\n",
              "    </tr>\n",
              "    <tr>\n",
              "      <th>17</th>\n",
              "      <td>구로구</td>\n",
              "      <td>447874.0</td>\n",
              "      <td>416487.0</td>\n",
              "      <td>31387.0</td>\n",
              "      <td>56833.0</td>\n",
              "      <td>7.007998</td>\n",
              "      <td>12.689506</td>\n",
              "    </tr>\n",
              "    <tr>\n",
              "      <th>18</th>\n",
              "      <td>금천구</td>\n",
              "      <td>255082.0</td>\n",
              "      <td>236353.0</td>\n",
              "      <td>18729.0</td>\n",
              "      <td>32970.0</td>\n",
              "      <td>7.342345</td>\n",
              "      <td>12.925255</td>\n",
              "    </tr>\n",
              "    <tr>\n",
              "      <th>19</th>\n",
              "      <td>영등포구</td>\n",
              "      <td>402985.0</td>\n",
              "      <td>368072.0</td>\n",
              "      <td>34913.0</td>\n",
              "      <td>52413.0</td>\n",
              "      <td>8.663598</td>\n",
              "      <td>13.006191</td>\n",
              "    </tr>\n",
              "    <tr>\n",
              "      <th>20</th>\n",
              "      <td>동작구</td>\n",
              "      <td>412520.0</td>\n",
              "      <td>400456.0</td>\n",
              "      <td>12064.0</td>\n",
              "      <td>56013.0</td>\n",
              "      <td>2.924464</td>\n",
              "      <td>13.578251</td>\n",
              "    </tr>\n",
              "    <tr>\n",
              "      <th>21</th>\n",
              "      <td>관악구</td>\n",
              "      <td>525515.0</td>\n",
              "      <td>507203.0</td>\n",
              "      <td>18312.0</td>\n",
              "      <td>68082.0</td>\n",
              "      <td>3.484582</td>\n",
              "      <td>12.955291</td>\n",
              "    </tr>\n",
              "    <tr>\n",
              "      <th>22</th>\n",
              "      <td>서초구</td>\n",
              "      <td>450310.0</td>\n",
              "      <td>445994.0</td>\n",
              "      <td>4316.0</td>\n",
              "      <td>51733.0</td>\n",
              "      <td>0.958451</td>\n",
              "      <td>11.488308</td>\n",
              "    </tr>\n",
              "    <tr>\n",
              "      <th>23</th>\n",
              "      <td>강남구</td>\n",
              "      <td>570500.0</td>\n",
              "      <td>565550.0</td>\n",
              "      <td>4950.0</td>\n",
              "      <td>63167.0</td>\n",
              "      <td>0.867660</td>\n",
              "      <td>11.072217</td>\n",
              "    </tr>\n",
              "    <tr>\n",
              "      <th>24</th>\n",
              "      <td>송파구</td>\n",
              "      <td>667483.0</td>\n",
              "      <td>660584.0</td>\n",
              "      <td>6899.0</td>\n",
              "      <td>72506.0</td>\n",
              "      <td>1.033584</td>\n",
              "      <td>10.862599</td>\n",
              "    </tr>\n",
              "    <tr>\n",
              "      <th>25</th>\n",
              "      <td>강동구</td>\n",
              "      <td>453233.0</td>\n",
              "      <td>449019.0</td>\n",
              "      <td>4214.0</td>\n",
              "      <td>54622.0</td>\n",
              "      <td>0.929765</td>\n",
              "      <td>12.051638</td>\n",
              "    </tr>\n",
              "  </tbody>\n",
              "</table>\n",
              "</div>"
            ],
            "text/plain": [
              "      구별       인구수       한국인      외국인      고령자     외국인비율      고령자비율\n",
              "1    종로구  162820.0  153589.0   9231.0  25425.0  5.669451  15.615404\n",
              "2     중구  133240.0  124312.0   8928.0  20764.0  6.700690  15.583909\n",
              "3    용산구  244203.0  229456.0  14747.0  36231.0  6.038828  14.836427\n",
              "4    성동구  311244.0  303380.0   7864.0  39997.0  2.526635  12.850689\n",
              "5    광진구  372164.0  357211.0  14953.0  42214.0  4.017852  11.342849\n",
              "6   동대문구  369496.0  354079.0  15417.0  54173.0  4.172440  14.661322\n",
              "7    중랑구  414503.0  409882.0   4621.0  56774.0  1.114829  13.696885\n",
              "8    성북구  461260.0  449773.0  11487.0  64692.0  2.490353  14.025062\n",
              "9    강북구  330192.0  326686.0   3506.0  54813.0  1.061806  16.600342\n",
              "10   도봉구  348646.0  346629.0   2017.0  51312.0  0.578524  14.717507\n",
              "11   노원구  569384.0  565565.0   3819.0  71941.0  0.670725  12.634883\n",
              "12   은평구  494388.0  489943.0   4445.0  72334.0  0.899091  14.631019\n",
              "13  서대문구  327163.0  314982.0  12181.0  48161.0  3.723221  14.720797\n",
              "14   마포구  389649.0  378566.0  11083.0  48765.0  2.844355  12.515110\n",
              "15   양천구  479978.0  475949.0   4029.0  52975.0  0.839413  11.036964\n",
              "16   강서구  603772.0  597248.0   6524.0  72548.0  1.080540  12.015794\n",
              "17   구로구  447874.0  416487.0  31387.0  56833.0  7.007998  12.689506\n",
              "18   금천구  255082.0  236353.0  18729.0  32970.0  7.342345  12.925255\n",
              "19  영등포구  402985.0  368072.0  34913.0  52413.0  8.663598  13.006191\n",
              "20   동작구  412520.0  400456.0  12064.0  56013.0  2.924464  13.578251\n",
              "21   관악구  525515.0  507203.0  18312.0  68082.0  3.484582  12.955291\n",
              "22   서초구  450310.0  445994.0   4316.0  51733.0  0.958451  11.488308\n",
              "23   강남구  570500.0  565550.0   4950.0  63167.0  0.867660  11.072217\n",
              "24   송파구  667483.0  660584.0   6899.0  72506.0  1.033584  10.862599\n",
              "25   강동구  453233.0  449019.0   4214.0  54622.0  0.929765  12.051638"
            ]
          },
          "metadata": {},
          "execution_count": 17
        }
      ]
    },
    {
      "cell_type": "code",
      "metadata": {
        "id": "ZKj8MR3gN-JS"
      },
      "source": [
        ""
      ],
      "execution_count": 17,
      "outputs": []
    },
    {
      "cell_type": "markdown",
      "metadata": {
        "id": "ZBf4Cg2dN-JS"
      },
      "source": [
        "## 실습 11. 외국인 대상으로 장사를 하려 합니다. 외국인이 가장 많은 구와, 외국인비율이 가장 높은 구를 각각 5개씩 찾으세요."
      ]
    },
    {
      "cell_type": "code",
      "metadata": {
        "colab": {
          "base_uri": "https://localhost:8080/",
          "height": 0
        },
        "id": "RrK5H9F4N-JS",
        "outputId": "9c0957d4-953c-4d4c-e117-3459f6330b55"
      },
      "source": [
        "# 외국인이 가장 많은 구\n",
        "df_pop_seoul.sort_values(by='외국인', ascending=False).head()"
      ],
      "execution_count": 18,
      "outputs": [
        {
          "output_type": "execute_result",
          "data": {
            "text/html": [
              "<div>\n",
              "<style scoped>\n",
              "    .dataframe tbody tr th:only-of-type {\n",
              "        vertical-align: middle;\n",
              "    }\n",
              "\n",
              "    .dataframe tbody tr th {\n",
              "        vertical-align: top;\n",
              "    }\n",
              "\n",
              "    .dataframe thead th {\n",
              "        text-align: right;\n",
              "    }\n",
              "</style>\n",
              "<table border=\"1\" class=\"dataframe\">\n",
              "  <thead>\n",
              "    <tr style=\"text-align: right;\">\n",
              "      <th></th>\n",
              "      <th>구별</th>\n",
              "      <th>인구수</th>\n",
              "      <th>한국인</th>\n",
              "      <th>외국인</th>\n",
              "      <th>고령자</th>\n",
              "      <th>외국인비율</th>\n",
              "      <th>고령자비율</th>\n",
              "    </tr>\n",
              "  </thead>\n",
              "  <tbody>\n",
              "    <tr>\n",
              "      <th>19</th>\n",
              "      <td>영등포구</td>\n",
              "      <td>402985.0</td>\n",
              "      <td>368072.0</td>\n",
              "      <td>34913.0</td>\n",
              "      <td>52413.0</td>\n",
              "      <td>8.663598</td>\n",
              "      <td>13.006191</td>\n",
              "    </tr>\n",
              "    <tr>\n",
              "      <th>17</th>\n",
              "      <td>구로구</td>\n",
              "      <td>447874.0</td>\n",
              "      <td>416487.0</td>\n",
              "      <td>31387.0</td>\n",
              "      <td>56833.0</td>\n",
              "      <td>7.007998</td>\n",
              "      <td>12.689506</td>\n",
              "    </tr>\n",
              "    <tr>\n",
              "      <th>18</th>\n",
              "      <td>금천구</td>\n",
              "      <td>255082.0</td>\n",
              "      <td>236353.0</td>\n",
              "      <td>18729.0</td>\n",
              "      <td>32970.0</td>\n",
              "      <td>7.342345</td>\n",
              "      <td>12.925255</td>\n",
              "    </tr>\n",
              "    <tr>\n",
              "      <th>21</th>\n",
              "      <td>관악구</td>\n",
              "      <td>525515.0</td>\n",
              "      <td>507203.0</td>\n",
              "      <td>18312.0</td>\n",
              "      <td>68082.0</td>\n",
              "      <td>3.484582</td>\n",
              "      <td>12.955291</td>\n",
              "    </tr>\n",
              "    <tr>\n",
              "      <th>6</th>\n",
              "      <td>동대문구</td>\n",
              "      <td>369496.0</td>\n",
              "      <td>354079.0</td>\n",
              "      <td>15417.0</td>\n",
              "      <td>54173.0</td>\n",
              "      <td>4.172440</td>\n",
              "      <td>14.661322</td>\n",
              "    </tr>\n",
              "  </tbody>\n",
              "</table>\n",
              "</div>"
            ],
            "text/plain": [
              "      구별       인구수       한국인      외국인      고령자     외국인비율      고령자비율\n",
              "19  영등포구  402985.0  368072.0  34913.0  52413.0  8.663598  13.006191\n",
              "17   구로구  447874.0  416487.0  31387.0  56833.0  7.007998  12.689506\n",
              "18   금천구  255082.0  236353.0  18729.0  32970.0  7.342345  12.925255\n",
              "21   관악구  525515.0  507203.0  18312.0  68082.0  3.484582  12.955291\n",
              "6   동대문구  369496.0  354079.0  15417.0  54173.0  4.172440  14.661322"
            ]
          },
          "metadata": {},
          "execution_count": 18
        }
      ]
    },
    {
      "cell_type": "code",
      "metadata": {
        "colab": {
          "base_uri": "https://localhost:8080/",
          "height": 0
        },
        "id": "xZsNUy6UN-JT",
        "outputId": "a12976fc-ec82-4ba4-bcd0-ea2b34ff6605"
      },
      "source": [
        "df_pop_seoul.sort_values(by='외국인비율', ascending=False).head() # 외국인 비율이 가장 높은 구"
      ],
      "execution_count": 19,
      "outputs": [
        {
          "output_type": "execute_result",
          "data": {
            "text/html": [
              "<div>\n",
              "<style scoped>\n",
              "    .dataframe tbody tr th:only-of-type {\n",
              "        vertical-align: middle;\n",
              "    }\n",
              "\n",
              "    .dataframe tbody tr th {\n",
              "        vertical-align: top;\n",
              "    }\n",
              "\n",
              "    .dataframe thead th {\n",
              "        text-align: right;\n",
              "    }\n",
              "</style>\n",
              "<table border=\"1\" class=\"dataframe\">\n",
              "  <thead>\n",
              "    <tr style=\"text-align: right;\">\n",
              "      <th></th>\n",
              "      <th>구별</th>\n",
              "      <th>인구수</th>\n",
              "      <th>한국인</th>\n",
              "      <th>외국인</th>\n",
              "      <th>고령자</th>\n",
              "      <th>외국인비율</th>\n",
              "      <th>고령자비율</th>\n",
              "    </tr>\n",
              "  </thead>\n",
              "  <tbody>\n",
              "    <tr>\n",
              "      <th>19</th>\n",
              "      <td>영등포구</td>\n",
              "      <td>402985.0</td>\n",
              "      <td>368072.0</td>\n",
              "      <td>34913.0</td>\n",
              "      <td>52413.0</td>\n",
              "      <td>8.663598</td>\n",
              "      <td>13.006191</td>\n",
              "    </tr>\n",
              "    <tr>\n",
              "      <th>18</th>\n",
              "      <td>금천구</td>\n",
              "      <td>255082.0</td>\n",
              "      <td>236353.0</td>\n",
              "      <td>18729.0</td>\n",
              "      <td>32970.0</td>\n",
              "      <td>7.342345</td>\n",
              "      <td>12.925255</td>\n",
              "    </tr>\n",
              "    <tr>\n",
              "      <th>17</th>\n",
              "      <td>구로구</td>\n",
              "      <td>447874.0</td>\n",
              "      <td>416487.0</td>\n",
              "      <td>31387.0</td>\n",
              "      <td>56833.0</td>\n",
              "      <td>7.007998</td>\n",
              "      <td>12.689506</td>\n",
              "    </tr>\n",
              "    <tr>\n",
              "      <th>2</th>\n",
              "      <td>중구</td>\n",
              "      <td>133240.0</td>\n",
              "      <td>124312.0</td>\n",
              "      <td>8928.0</td>\n",
              "      <td>20764.0</td>\n",
              "      <td>6.700690</td>\n",
              "      <td>15.583909</td>\n",
              "    </tr>\n",
              "    <tr>\n",
              "      <th>3</th>\n",
              "      <td>용산구</td>\n",
              "      <td>244203.0</td>\n",
              "      <td>229456.0</td>\n",
              "      <td>14747.0</td>\n",
              "      <td>36231.0</td>\n",
              "      <td>6.038828</td>\n",
              "      <td>14.836427</td>\n",
              "    </tr>\n",
              "  </tbody>\n",
              "</table>\n",
              "</div>"
            ],
            "text/plain": [
              "      구별       인구수       한국인      외국인      고령자     외국인비율      고령자비율\n",
              "19  영등포구  402985.0  368072.0  34913.0  52413.0  8.663598  13.006191\n",
              "18   금천구  255082.0  236353.0  18729.0  32970.0  7.342345  12.925255\n",
              "17   구로구  447874.0  416487.0  31387.0  56833.0  7.007998  12.689506\n",
              "2     중구  133240.0  124312.0   8928.0  20764.0  6.700690  15.583909\n",
              "3    용산구  244203.0  229456.0  14747.0  36231.0  6.038828  14.836427"
            ]
          },
          "metadata": {},
          "execution_count": 19
        }
      ]
    },
    {
      "cell_type": "code",
      "metadata": {
        "id": "QSDGduE7N-JT"
      },
      "source": [
        ""
      ],
      "execution_count": 19,
      "outputs": []
    },
    {
      "cell_type": "markdown",
      "metadata": {
        "id": "eNC6V99_N-JT"
      },
      "source": [
        "## 실습 12. 고령자 대상 마케팅을 구상 중입니다. 고령자가 가장 많은 구와, 고령자비율이 가장 높은 구를 각각 5개씩 찾으세요."
      ]
    },
    {
      "cell_type": "code",
      "metadata": {
        "colab": {
          "base_uri": "https://localhost:8080/",
          "height": 0
        },
        "id": "ti8nt5MYN-JT",
        "outputId": "3477c6b0-f5ab-4448-b762-491a41eea928"
      },
      "source": [
        "df_pop_seoul.sort_values(by='고령자', ascending=False).head() # 고령자 많은 구"
      ],
      "execution_count": 20,
      "outputs": [
        {
          "output_type": "execute_result",
          "data": {
            "text/html": [
              "<div>\n",
              "<style scoped>\n",
              "    .dataframe tbody tr th:only-of-type {\n",
              "        vertical-align: middle;\n",
              "    }\n",
              "\n",
              "    .dataframe tbody tr th {\n",
              "        vertical-align: top;\n",
              "    }\n",
              "\n",
              "    .dataframe thead th {\n",
              "        text-align: right;\n",
              "    }\n",
              "</style>\n",
              "<table border=\"1\" class=\"dataframe\">\n",
              "  <thead>\n",
              "    <tr style=\"text-align: right;\">\n",
              "      <th></th>\n",
              "      <th>구별</th>\n",
              "      <th>인구수</th>\n",
              "      <th>한국인</th>\n",
              "      <th>외국인</th>\n",
              "      <th>고령자</th>\n",
              "      <th>외국인비율</th>\n",
              "      <th>고령자비율</th>\n",
              "    </tr>\n",
              "  </thead>\n",
              "  <tbody>\n",
              "    <tr>\n",
              "      <th>16</th>\n",
              "      <td>강서구</td>\n",
              "      <td>603772.0</td>\n",
              "      <td>597248.0</td>\n",
              "      <td>6524.0</td>\n",
              "      <td>72548.0</td>\n",
              "      <td>1.080540</td>\n",
              "      <td>12.015794</td>\n",
              "    </tr>\n",
              "    <tr>\n",
              "      <th>24</th>\n",
              "      <td>송파구</td>\n",
              "      <td>667483.0</td>\n",
              "      <td>660584.0</td>\n",
              "      <td>6899.0</td>\n",
              "      <td>72506.0</td>\n",
              "      <td>1.033584</td>\n",
              "      <td>10.862599</td>\n",
              "    </tr>\n",
              "    <tr>\n",
              "      <th>12</th>\n",
              "      <td>은평구</td>\n",
              "      <td>494388.0</td>\n",
              "      <td>489943.0</td>\n",
              "      <td>4445.0</td>\n",
              "      <td>72334.0</td>\n",
              "      <td>0.899091</td>\n",
              "      <td>14.631019</td>\n",
              "    </tr>\n",
              "    <tr>\n",
              "      <th>11</th>\n",
              "      <td>노원구</td>\n",
              "      <td>569384.0</td>\n",
              "      <td>565565.0</td>\n",
              "      <td>3819.0</td>\n",
              "      <td>71941.0</td>\n",
              "      <td>0.670725</td>\n",
              "      <td>12.634883</td>\n",
              "    </tr>\n",
              "    <tr>\n",
              "      <th>21</th>\n",
              "      <td>관악구</td>\n",
              "      <td>525515.0</td>\n",
              "      <td>507203.0</td>\n",
              "      <td>18312.0</td>\n",
              "      <td>68082.0</td>\n",
              "      <td>3.484582</td>\n",
              "      <td>12.955291</td>\n",
              "    </tr>\n",
              "  </tbody>\n",
              "</table>\n",
              "</div>"
            ],
            "text/plain": [
              "     구별       인구수       한국인      외국인      고령자     외국인비율      고령자비율\n",
              "16  강서구  603772.0  597248.0   6524.0  72548.0  1.080540  12.015794\n",
              "24  송파구  667483.0  660584.0   6899.0  72506.0  1.033584  10.862599\n",
              "12  은평구  494388.0  489943.0   4445.0  72334.0  0.899091  14.631019\n",
              "11  노원구  569384.0  565565.0   3819.0  71941.0  0.670725  12.634883\n",
              "21  관악구  525515.0  507203.0  18312.0  68082.0  3.484582  12.955291"
            ]
          },
          "metadata": {},
          "execution_count": 20
        }
      ]
    },
    {
      "cell_type": "code",
      "metadata": {
        "colab": {
          "base_uri": "https://localhost:8080/",
          "height": 0
        },
        "id": "fsh7PCtPN-JT",
        "outputId": "23817c00-7808-40c5-d589-e1da25c6acd9"
      },
      "source": [
        "df_pop_seoul.sort_values(by='고령자비율', ascending=False).head() # 고령자 비율이 높은 구"
      ],
      "execution_count": 21,
      "outputs": [
        {
          "output_type": "execute_result",
          "data": {
            "text/html": [
              "<div>\n",
              "<style scoped>\n",
              "    .dataframe tbody tr th:only-of-type {\n",
              "        vertical-align: middle;\n",
              "    }\n",
              "\n",
              "    .dataframe tbody tr th {\n",
              "        vertical-align: top;\n",
              "    }\n",
              "\n",
              "    .dataframe thead th {\n",
              "        text-align: right;\n",
              "    }\n",
              "</style>\n",
              "<table border=\"1\" class=\"dataframe\">\n",
              "  <thead>\n",
              "    <tr style=\"text-align: right;\">\n",
              "      <th></th>\n",
              "      <th>구별</th>\n",
              "      <th>인구수</th>\n",
              "      <th>한국인</th>\n",
              "      <th>외국인</th>\n",
              "      <th>고령자</th>\n",
              "      <th>외국인비율</th>\n",
              "      <th>고령자비율</th>\n",
              "    </tr>\n",
              "  </thead>\n",
              "  <tbody>\n",
              "    <tr>\n",
              "      <th>9</th>\n",
              "      <td>강북구</td>\n",
              "      <td>330192.0</td>\n",
              "      <td>326686.0</td>\n",
              "      <td>3506.0</td>\n",
              "      <td>54813.0</td>\n",
              "      <td>1.061806</td>\n",
              "      <td>16.600342</td>\n",
              "    </tr>\n",
              "    <tr>\n",
              "      <th>1</th>\n",
              "      <td>종로구</td>\n",
              "      <td>162820.0</td>\n",
              "      <td>153589.0</td>\n",
              "      <td>9231.0</td>\n",
              "      <td>25425.0</td>\n",
              "      <td>5.669451</td>\n",
              "      <td>15.615404</td>\n",
              "    </tr>\n",
              "    <tr>\n",
              "      <th>2</th>\n",
              "      <td>중구</td>\n",
              "      <td>133240.0</td>\n",
              "      <td>124312.0</td>\n",
              "      <td>8928.0</td>\n",
              "      <td>20764.0</td>\n",
              "      <td>6.700690</td>\n",
              "      <td>15.583909</td>\n",
              "    </tr>\n",
              "    <tr>\n",
              "      <th>3</th>\n",
              "      <td>용산구</td>\n",
              "      <td>244203.0</td>\n",
              "      <td>229456.0</td>\n",
              "      <td>14747.0</td>\n",
              "      <td>36231.0</td>\n",
              "      <td>6.038828</td>\n",
              "      <td>14.836427</td>\n",
              "    </tr>\n",
              "    <tr>\n",
              "      <th>13</th>\n",
              "      <td>서대문구</td>\n",
              "      <td>327163.0</td>\n",
              "      <td>314982.0</td>\n",
              "      <td>12181.0</td>\n",
              "      <td>48161.0</td>\n",
              "      <td>3.723221</td>\n",
              "      <td>14.720797</td>\n",
              "    </tr>\n",
              "  </tbody>\n",
              "</table>\n",
              "</div>"
            ],
            "text/plain": [
              "      구별       인구수       한국인      외국인      고령자     외국인비율      고령자비율\n",
              "9    강북구  330192.0  326686.0   3506.0  54813.0  1.061806  16.600342\n",
              "1    종로구  162820.0  153589.0   9231.0  25425.0  5.669451  15.615404\n",
              "2     중구  133240.0  124312.0   8928.0  20764.0  6.700690  15.583909\n",
              "3    용산구  244203.0  229456.0  14747.0  36231.0  6.038828  14.836427\n",
              "13  서대문구  327163.0  314982.0  12181.0  48161.0  3.723221  14.720797"
            ]
          },
          "metadata": {},
          "execution_count": 21
        }
      ]
    },
    {
      "cell_type": "code",
      "metadata": {
        "id": "TJKsKDITN-JT"
      },
      "source": [
        ""
      ],
      "execution_count": 21,
      "outputs": []
    },
    {
      "cell_type": "markdown",
      "metadata": {
        "id": "9wsqnKhAN-JT"
      },
      "source": [
        "## 실습 13. CCTV 데이터와 인구 데이터 합치고 분석하기"
      ]
    },
    {
      "cell_type": "code",
      "metadata": {
        "id": "i5m2BUydN-JT"
      },
      "source": [
        "data_result = pd.merge(left=df_pop_seoul, right=df_cctv_seoul, on='구별', how='inner') # 두 데이터프레임 병합"
      ],
      "execution_count": 22,
      "outputs": []
    },
    {
      "cell_type": "code",
      "metadata": {
        "id": "szWr4JmSN-JU"
      },
      "source": [
        ""
      ],
      "execution_count": 22,
      "outputs": []
    },
    {
      "cell_type": "markdown",
      "metadata": {
        "id": "0STcS3g5N-JU"
      },
      "source": [
        "## 실습 14. data_result 에서, 다음 4개의 컬럼을 모두 버려 버립니다.\n",
        "### '2013년도 이전', 2014년', '2015년', '2016년' "
      ]
    },
    {
      "cell_type": "code",
      "metadata": {
        "id": "i6dD06YBN-JU"
      },
      "source": [
        "data_result = data_result.drop(columns=['2013년도 이전', '2014년', '2015년', '2016년']) # 컬럼 삭제"
      ],
      "execution_count": 23,
      "outputs": []
    },
    {
      "cell_type": "code",
      "metadata": {
        "id": "NY8Pc535N-JU"
      },
      "source": [
        ""
      ],
      "execution_count": 23,
      "outputs": []
    },
    {
      "cell_type": "markdown",
      "metadata": {
        "id": "ano8FotjN-JU"
      },
      "source": [
        "## 실습 15-1. dara_result 의 인덱스를, '구별' 로 바꿔 줍니다."
      ]
    },
    {
      "cell_type": "code",
      "metadata": {
        "id": "csepXqBBN-JU"
      },
      "source": [
        "data_result = data_result.set_index(keys='구별') # 구별을 인덱스로 설정"
      ],
      "execution_count": 24,
      "outputs": []
    },
    {
      "cell_type": "code",
      "metadata": {
        "id": "6DNF_2ZsN-JU"
      },
      "source": [
        ""
      ],
      "execution_count": 24,
      "outputs": []
    },
    {
      "cell_type": "markdown",
      "metadata": {
        "id": "nITAeM0tN-JV"
      },
      "source": [
        "## 실습 15-2. 이 데이터프레임을 csv 파일로 저장합니다.\n",
        "### 파일명은, CCTV_result.csv 입니다."
      ]
    },
    {
      "cell_type": "code",
      "metadata": {
        "id": "Z1xW55RhN-JV"
      },
      "source": [
        "data_result.to_csv('CCTV_result.csv')"
      ],
      "execution_count": 25,
      "outputs": []
    },
    {
      "cell_type": "code",
      "metadata": {
        "id": "dNrhh3AdN-JV"
      },
      "source": [
        ""
      ],
      "execution_count": 25,
      "outputs": []
    },
    {
      "cell_type": "markdown",
      "metadata": {
        "id": "XbogFR25N-JV"
      },
      "source": [
        "## 실습 16. 상관 관계 분석에 대해서 알아봅니다.\n",
        "### https://ko.wikipedia.org/wiki/%EC%83%81%EA%B4%80_%EB%B6%84%EC%84%9D\n",
        "###  상관계수는 -1부터 1까지의 값을 갖는다.1일 때 완벽한 양의 상관관계가 되고, -1일 때 완벽한 음의 상관관계가 된다. 0이라면 별다른 상관관계가 없음을 의미한다.\n",
        "###  상관계수가 0.1 이하면 관계가 없고, 0.3 이하면 약한관계 입니다"
      ]
    },
    {
      "cell_type": "code",
      "metadata": {
        "id": "xQO5ILmYN-JV"
      },
      "source": [
        ""
      ],
      "execution_count": 25,
      "outputs": []
    },
    {
      "cell_type": "code",
      "metadata": {
        "id": "BUY8UUboN-JV"
      },
      "source": [
        ""
      ],
      "execution_count": 25,
      "outputs": []
    },
    {
      "cell_type": "markdown",
      "metadata": {
        "id": "Fn_qTrY-N-JV"
      },
      "source": [
        "## 실습 17. CCTV의 갯수와 고령자 비율의 상관관계를 분석하세요."
      ]
    },
    {
      "cell_type": "code",
      "metadata": {
        "colab": {
          "base_uri": "https://localhost:8080/",
          "height": 0
        },
        "id": "E0KtSvkFN-JV",
        "outputId": "0f12f076-414c-4464-bd04-624964b982e8"
      },
      "source": [
        "data_result[['소계', '고령자비율']].corr() # 상관관계 분석"
      ],
      "execution_count": 26,
      "outputs": [
        {
          "output_type": "execute_result",
          "data": {
            "text/html": [
              "<div>\n",
              "<style scoped>\n",
              "    .dataframe tbody tr th:only-of-type {\n",
              "        vertical-align: middle;\n",
              "    }\n",
              "\n",
              "    .dataframe tbody tr th {\n",
              "        vertical-align: top;\n",
              "    }\n",
              "\n",
              "    .dataframe thead th {\n",
              "        text-align: right;\n",
              "    }\n",
              "</style>\n",
              "<table border=\"1\" class=\"dataframe\">\n",
              "  <thead>\n",
              "    <tr style=\"text-align: right;\">\n",
              "      <th></th>\n",
              "      <th>소계</th>\n",
              "      <th>고령자비율</th>\n",
              "    </tr>\n",
              "  </thead>\n",
              "  <tbody>\n",
              "    <tr>\n",
              "      <th>소계</th>\n",
              "      <td>1.000000</td>\n",
              "      <td>-0.280786</td>\n",
              "    </tr>\n",
              "    <tr>\n",
              "      <th>고령자비율</th>\n",
              "      <td>-0.280786</td>\n",
              "      <td>1.000000</td>\n",
              "    </tr>\n",
              "  </tbody>\n",
              "</table>\n",
              "</div>"
            ],
            "text/plain": [
              "             소계     고령자비율\n",
              "소계     1.000000 -0.280786\n",
              "고령자비율 -0.280786  1.000000"
            ]
          },
          "metadata": {},
          "execution_count": 26
        }
      ]
    },
    {
      "cell_type": "code",
      "metadata": {
        "id": "QSveCfhWN-JV"
      },
      "source": [
        ""
      ],
      "execution_count": 26,
      "outputs": []
    },
    {
      "cell_type": "markdown",
      "metadata": {
        "id": "3me1tUvvN-JV"
      },
      "source": [
        "## 실습 18. CCTV의 갯수와 외국인 비율의 상관관계를 분석하세요."
      ]
    },
    {
      "cell_type": "code",
      "metadata": {
        "colab": {
          "base_uri": "https://localhost:8080/",
          "height": 111
        },
        "id": "hPbA-0eGN-JV",
        "outputId": "38c356b0-d890-4713-828c-7eed63e03ef3"
      },
      "source": [
        "data_result[['소계', '외국인비율']].corr() # 상관관계 분석"
      ],
      "execution_count": 27,
      "outputs": [
        {
          "output_type": "execute_result",
          "data": {
            "text/html": [
              "<div>\n",
              "<style scoped>\n",
              "    .dataframe tbody tr th:only-of-type {\n",
              "        vertical-align: middle;\n",
              "    }\n",
              "\n",
              "    .dataframe tbody tr th {\n",
              "        vertical-align: top;\n",
              "    }\n",
              "\n",
              "    .dataframe thead th {\n",
              "        text-align: right;\n",
              "    }\n",
              "</style>\n",
              "<table border=\"1\" class=\"dataframe\">\n",
              "  <thead>\n",
              "    <tr style=\"text-align: right;\">\n",
              "      <th></th>\n",
              "      <th>소계</th>\n",
              "      <th>외국인비율</th>\n",
              "    </tr>\n",
              "  </thead>\n",
              "  <tbody>\n",
              "    <tr>\n",
              "      <th>소계</th>\n",
              "      <td>1.000000</td>\n",
              "      <td>-0.136074</td>\n",
              "    </tr>\n",
              "    <tr>\n",
              "      <th>외국인비율</th>\n",
              "      <td>-0.136074</td>\n",
              "      <td>1.000000</td>\n",
              "    </tr>\n",
              "  </tbody>\n",
              "</table>\n",
              "</div>"
            ],
            "text/plain": [
              "             소계     외국인비율\n",
              "소계     1.000000 -0.136074\n",
              "외국인비율 -0.136074  1.000000"
            ]
          },
          "metadata": {},
          "execution_count": 27
        }
      ]
    },
    {
      "cell_type": "markdown",
      "metadata": {
        "id": "DR_P-A6mN-JW"
      },
      "source": [
        "## 실습 19. CCTV의 갯수와 인구수의 상관관계를 분석하세요."
      ]
    },
    {
      "cell_type": "code",
      "metadata": {
        "colab": {
          "base_uri": "https://localhost:8080/",
          "height": 111
        },
        "id": "MN79DbfYN-JW",
        "outputId": "39686e73-13c7-4278-b49f-69e198d0cc6a"
      },
      "source": [
        "data_result[['소계', '인구수']].corr() # 상관관계 분석"
      ],
      "execution_count": 28,
      "outputs": [
        {
          "output_type": "execute_result",
          "data": {
            "text/html": [
              "<div>\n",
              "<style scoped>\n",
              "    .dataframe tbody tr th:only-of-type {\n",
              "        vertical-align: middle;\n",
              "    }\n",
              "\n",
              "    .dataframe tbody tr th {\n",
              "        vertical-align: top;\n",
              "    }\n",
              "\n",
              "    .dataframe thead th {\n",
              "        text-align: right;\n",
              "    }\n",
              "</style>\n",
              "<table border=\"1\" class=\"dataframe\">\n",
              "  <thead>\n",
              "    <tr style=\"text-align: right;\">\n",
              "      <th></th>\n",
              "      <th>소계</th>\n",
              "      <th>인구수</th>\n",
              "    </tr>\n",
              "  </thead>\n",
              "  <tbody>\n",
              "    <tr>\n",
              "      <th>소계</th>\n",
              "      <td>1.000000</td>\n",
              "      <td>0.306342</td>\n",
              "    </tr>\n",
              "    <tr>\n",
              "      <th>인구수</th>\n",
              "      <td>0.306342</td>\n",
              "      <td>1.000000</td>\n",
              "    </tr>\n",
              "  </tbody>\n",
              "</table>\n",
              "</div>"
            ],
            "text/plain": [
              "           소계       인구수\n",
              "소계   1.000000  0.306342\n",
              "인구수  0.306342  1.000000"
            ]
          },
          "metadata": {},
          "execution_count": 28
        }
      ]
    },
    {
      "cell_type": "code",
      "metadata": {
        "id": "Nm6JIxlnN-JW"
      },
      "source": [
        ""
      ],
      "execution_count": 28,
      "outputs": []
    },
    {
      "cell_type": "markdown",
      "metadata": {
        "id": "IY7TNVpoN-JW"
      },
      "source": [
        "## 실습 20. 각 구의 CCTV의 갯수를 bar로 나타내세요.\n",
        "### pandas dataframe.plot 함수 사용"
      ]
    },
    {
      "cell_type": "code",
      "metadata": {
        "colab": {
          "base_uri": "https://localhost:8080/",
          "height": 356
        },
        "id": "hdw5NPZ2N-JW",
        "outputId": "519af880-4547-4a59-b334-56ac4983397d"
      },
      "source": [
        "plt.figure(figsize=(15,8))\n",
        "data_result.reset_index().plot.bar(x='구별', y='소계') # 각 구별 cctv 갯수\n",
        "plt.title('각 구의 CCTV 갯수', fontsize=15, pad=20) # 제목\n",
        "plt.legend('CCTV', loc=2) # 범례\n",
        "plt.ylabel('CCTV 수') # y축 라벨\n",
        "plt.show()"
      ],
      "execution_count": 29,
      "outputs": [
        {
          "output_type": "display_data",
          "data": {
            "text/plain": [
              "<Figure size 1080x576 with 0 Axes>"
            ]
          },
          "metadata": {}
        },
        {
          "output_type": "display_data",
          "data": {
            "image/png": "[encoded data removed]",
            "text/plain": [
              "<Figure size 432x288 with 1 Axes>"
            ]
          },
          "metadata": {
            "image/png": {
              "width": 394,
              "height": 321
            },
            "needs_background": "light"
          }
        }
      ]
    },
    {
      "cell_type": "code",
      "metadata": {
        "id": "00_MOnGrN-JX"
      },
      "source": [
        ""
      ],
      "execution_count": 29,
      "outputs": []
    },
    {
      "cell_type": "markdown",
      "metadata": {
        "id": "Rk8adBEpN-JX"
      },
      "source": [
        "## 실습 21. 각 구의 CCTV의 갯수를, 먼저 소팅(큰순)한 후,  bar로 나타내세요."
      ]
    },
    {
      "cell_type": "code",
      "metadata": {
        "id": "F2G1WtEPN-JX",
        "colab": {
          "base_uri": "https://localhost:8080/",
          "height": 462
        },
        "outputId": "9b0717a3-bd3c-45a2-b73c-8940d7b928fc"
      },
      "source": [
        "plt.rcParams['figure.figsize'] = (12, 6) # 그래프 크기 조절\n",
        "plt.figure(figsize=(15,8)) \n",
        "data_result.reset_index().sort_values(by='소계',ascending=False).plot.bar(x='구별', y='소계') # 각 구별 cctv 갯수\n",
        "plt.title('각 구별 CCTV 갯수', fontsize=15, pad=20) # 타이틀, 제목폰트 크기, 위치조절\n",
        "plt.ylabel('CCTV 수') # y라벨 설정\n",
        "plt.xticks(rotation=45) # x축 \n",
        "plt.show()"
      ],
      "execution_count": 30,
      "outputs": [
        {
          "output_type": "display_data",
          "data": {
            "text/plain": [
              "<Figure size 1080x576 with 0 Axes>"
            ]
          },
          "metadata": {}
        },
        {
          "output_type": "display_data",
          "data": {
            "image/png": "[encoded data removed]",
            "text/plain": [
              "<Figure size 864x432 with 1 Axes>"
            ]
          },
          "metadata": {
            "image/png": {
              "width": 729,
              "height": 427
            },
            "needs_background": "light"
          }
        }
      ]
    },
    {
      "cell_type": "code",
      "metadata": {
        "id": "dJxfYdXAN-JX"
      },
      "source": [
        ""
      ],
      "execution_count": 30,
      "outputs": []
    },
    {
      "cell_type": "markdown",
      "metadata": {
        "id": "nPhBTd_ZN-JX"
      },
      "source": [
        "## 실습 22. 인구 한명당 CCTV의 비율을 계산하고, 이를 각 구별로 CCTV비율이 얼마인지 bar로 나타내세요."
      ]
    },
    {
      "cell_type": "code",
      "metadata": {
        "id": "lEO90FYCN-JX",
        "colab": {
          "base_uri": "https://localhost:8080/",
          "height": 433
        },
        "outputId": "744f6a83-0877-4532-dd9e-eaba52387a15"
      },
      "source": [
        "data_result['CCTV비율']= data_result['소계'] / data_result['인구수'] *100 # cctv비율\n",
        "data_result.reset_index().sort_values(by='CCTV비율', ascending=False).plot.bar(x='구별', y='CCTV비율') # for plotting"
      ],
      "execution_count": 31,
      "outputs": [
        {
          "output_type": "execute_result",
          "data": {
            "text/plain": [
              "<matplotlib.axes._subplots.AxesSubplot at 0x7f08620c5450>"
            ]
          },
          "metadata": {},
          "execution_count": 31
        },
        {
          "output_type": "display_data",
          "data": {
            "image/png": "[encoded data removed]",
            "text/plain": [
              "<Figure size 864x432 with 1 Axes>"
            ]
          },
          "metadata": {
            "image/png": {
              "width": 705,
              "height": 398
            },
            "needs_background": "light"
          }
        }
      ]
    },
    {
      "cell_type": "code",
      "metadata": {
        "id": "OQnhZwBFN-JY"
      },
      "source": [
        ""
      ],
      "execution_count": 31,
      "outputs": []
    },
    {
      "cell_type": "markdown",
      "metadata": {
        "id": "hcOVISadN-JY"
      },
      "source": [
        "## 실습 23. 인구수와 CCTV갯수가 어떤 분포인지, scatter로 나타내세요."
      ]
    },
    {
      "cell_type": "code",
      "metadata": {
        "id": "TBCIPDS1N-JY",
        "colab": {
          "base_uri": "https://localhost:8080/",
          "height": 390
        },
        "outputId": "5e8952cd-ea58-467a-bbae-d2c8cc21efa7"
      },
      "source": [
        "data_result.plot.scatter(x='인구수', y='소계')\n",
        "plt.show()"
      ],
      "execution_count": 32,
      "outputs": [
        {
          "output_type": "display_data",
          "data": {
            "image/png": "[encoded data removed]",
            "text/plain": [
              "<Figure size 864x432 with 1 Axes>"
            ]
          },
          "metadata": {
            "image/png": {
              "width": 729,
              "height": 373
            },
            "needs_background": "light"
          }
        }
      ]
    },
    {
      "cell_type": "code",
      "metadata": {
        "id": "YQHFrkVyN-JY"
      },
      "source": [
        ""
      ],
      "execution_count": 32,
      "outputs": []
    }
  ]
}